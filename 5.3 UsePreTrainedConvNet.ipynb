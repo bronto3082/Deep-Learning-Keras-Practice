{
 "cells": [
  {
   "cell_type": "code",
   "execution_count": 1,
   "metadata": {},
   "outputs": [
    {
     "name": "stdout",
     "output_type": "stream",
     "text": [
      "2.4.0\n"
     ]
    }
   ],
   "source": [
    "from tensorflow import keras\n",
    "print(keras.__version__)"
   ]
  },
  {
   "cell_type": "code",
   "execution_count": 7,
   "metadata": {},
   "outputs": [
    {
     "name": "stdout",
     "output_type": "stream",
     "text": [
      "WARNING:tensorflow:No training configuration found in the save file, so the model was *not* compiled. Compile it manually.\n",
      "Model: \"vgg16\"\n",
      "_________________________________________________________________\n",
      "Layer (type)                 Output Shape              Param #   \n",
      "=================================================================\n",
      "input_1 (InputLayer)         [(None, 150, 150, 3)]     0         \n",
      "_________________________________________________________________\n",
      "block1_conv1 (Conv2D)        (None, 150, 150, 64)      1792      \n",
      "_________________________________________________________________\n",
      "block1_conv2 (Conv2D)        (None, 150, 150, 64)      36928     \n",
      "_________________________________________________________________\n",
      "block1_pool (MaxPooling2D)   (None, 75, 75, 64)        0         \n",
      "_________________________________________________________________\n",
      "block2_conv1 (Conv2D)        (None, 75, 75, 128)       73856     \n",
      "_________________________________________________________________\n",
      "block2_conv2 (Conv2D)        (None, 75, 75, 128)       147584    \n",
      "_________________________________________________________________\n",
      "block2_pool (MaxPooling2D)   (None, 37, 37, 128)       0         \n",
      "_________________________________________________________________\n",
      "block3_conv1 (Conv2D)        (None, 37, 37, 256)       295168    \n",
      "_________________________________________________________________\n",
      "block3_conv2 (Conv2D)        (None, 37, 37, 256)       590080    \n",
      "_________________________________________________________________\n",
      "block3_conv3 (Conv2D)        (None, 37, 37, 256)       590080    \n",
      "_________________________________________________________________\n",
      "block3_pool (MaxPooling2D)   (None, 18, 18, 256)       0         \n",
      "_________________________________________________________________\n",
      "block4_conv1 (Conv2D)        (None, 18, 18, 512)       1180160   \n",
      "_________________________________________________________________\n",
      "block4_conv2 (Conv2D)        (None, 18, 18, 512)       2359808   \n",
      "_________________________________________________________________\n",
      "block4_conv3 (Conv2D)        (None, 18, 18, 512)       2359808   \n",
      "_________________________________________________________________\n",
      "block4_pool (MaxPooling2D)   (None, 9, 9, 512)         0         \n",
      "_________________________________________________________________\n",
      "block5_conv1 (Conv2D)        (None, 9, 9, 512)         2359808   \n",
      "_________________________________________________________________\n",
      "block5_conv2 (Conv2D)        (None, 9, 9, 512)         2359808   \n",
      "_________________________________________________________________\n",
      "block5_conv3 (Conv2D)        (None, 9, 9, 512)         2359808   \n",
      "_________________________________________________________________\n",
      "block5_pool (MaxPooling2D)   (None, 4, 4, 512)         0         \n",
      "=================================================================\n",
      "Total params: 14,714,688\n",
      "Trainable params: 14,714,688\n",
      "Non-trainable params: 0\n",
      "_________________________________________________________________\n"
     ]
    }
   ],
   "source": [
    "from tensorflow.keras.applications import VGG16\n",
    "\n",
    "conv_base = keras.models.load_model('./vgg16_model.h5')\n",
    "\n",
    "conv_base.summary()"
   ]
  },
  {
   "cell_type": "code",
   "execution_count": 9,
   "metadata": {},
   "outputs": [
    {
     "name": "stdout",
     "output_type": "stream",
     "text": [
      "Found 2000 images belonging to 2 classes.\n",
      "Found 1000 images belonging to 2 classes.\n",
      "Found 1000 images belonging to 2 classes.\n"
     ]
    }
   ],
   "source": [
    "#Fast feature extraction without using data augmentation\n",
    "\n",
    "import os\n",
    "import numpy as np\n",
    "from keras.preprocessing.image import ImageDataGenerator\n",
    "\n",
    "base_dir = './datasets/dogs-vs-cats-small'\n",
    "train_dir = os.path.join(base_dir, 'train')\n",
    "validation_dir = os.path.join(base_dir, 'validation')\n",
    "test_dir = os.path.join(base_dir, 'test')\n",
    "\n",
    "datagen = ImageDataGenerator(rescale=1./255)\n",
    "batch_size = 20\n",
    "def extract_features(directory, sample_count):\n",
    "    features = np.zeros(shape=(sample_count, 4, 4, 512))\n",
    "    labels = np.zeros(shape=(sample_count))\n",
    "    generator = datagen.flow_from_directory(\n",
    "        directory,\n",
    "        target_size=(150, 150),\n",
    "        batch_size=batch_size,\n",
    "        class_mode='binary'\n",
    "    )\n",
    "    i = 0\n",
    "    for inputs_batch, labels_batch in generator:\n",
    "        features_batch = conv_base.predict(inputs_batch)\n",
    "        features[i * batch_size : (i + 1) * batch_size] = features_batch\n",
    "        labels[i * batch_size : (i + 1) * batch_size] = labels_batch\n",
    "        i += 1\n",
    "        if i * batch_size >= sample_count:\n",
    "            break\n",
    "    return features, labels\n",
    "\n",
    "train_features, train_labels = extract_features(train_dir, 2000)\n",
    "validation_features, validation_labels = extract_features(validation_dir, 1000)\n",
    "test_features, test_labels = extract_features(test_dir, 1000)"
   ]
  },
  {
   "cell_type": "code",
   "execution_count": 11,
   "metadata": {},
   "outputs": [],
   "source": [
    "train_features = np.reshape(train_features, (2000, 4 * 4 * 512))\n",
    "validation_features = np.reshape(validation_features, (1000, 4 * 4 * 512))\n",
    "test_features = np.reshape(test_features, (1000, 4 * 4 * 512))"
   ]
  },
  {
   "cell_type": "code",
   "execution_count": 12,
   "metadata": {},
   "outputs": [
    {
     "name": "stdout",
     "output_type": "stream",
     "text": [
      "Epoch 1/30\n",
      "100/100 [==============================] - 2s 18ms/step - loss: 0.6242 - acc: 0.6445 - val_loss: 0.4394 - val_acc: 0.8310\n",
      "Epoch 2/30\n",
      "100/100 [==============================] - 2s 17ms/step - loss: 0.4131 - acc: 0.8155 - val_loss: 0.3514 - val_acc: 0.8660\n",
      "Epoch 3/30\n",
      "100/100 [==============================] - 2s 17ms/step - loss: 0.3525 - acc: 0.8560 - val_loss: 0.3154 - val_acc: 0.8770\n",
      "Epoch 4/30\n",
      "100/100 [==============================] - 2s 17ms/step - loss: 0.3097 - acc: 0.8770 - val_loss: 0.2920 - val_acc: 0.8880\n",
      "Epoch 5/30\n",
      "100/100 [==============================] - 2s 17ms/step - loss: 0.2826 - acc: 0.8895 - val_loss: 0.2971 - val_acc: 0.8790\n",
      "Epoch 6/30\n",
      "100/100 [==============================] - 2s 17ms/step - loss: 0.2715 - acc: 0.8910 - val_loss: 0.2704 - val_acc: 0.8870\n",
      "Epoch 7/30\n",
      "100/100 [==============================] - 2s 17ms/step - loss: 0.2446 - acc: 0.9025 - val_loss: 0.2576 - val_acc: 0.8990\n",
      "Epoch 8/30\n",
      "100/100 [==============================] - 2s 17ms/step - loss: 0.2251 - acc: 0.9195 - val_loss: 0.2537 - val_acc: 0.8990\n",
      "Epoch 9/30\n",
      "100/100 [==============================] - 2s 17ms/step - loss: 0.2109 - acc: 0.9190 - val_loss: 0.2466 - val_acc: 0.9030\n",
      "Epoch 10/30\n",
      "100/100 [==============================] - 2s 17ms/step - loss: 0.2023 - acc: 0.9230 - val_loss: 0.2438 - val_acc: 0.9030\n",
      "Epoch 11/30\n",
      "100/100 [==============================] - 2s 17ms/step - loss: 0.1939 - acc: 0.9275 - val_loss: 0.2411 - val_acc: 0.9040\n",
      "Epoch 12/30\n",
      "100/100 [==============================] - 2s 17ms/step - loss: 0.1892 - acc: 0.9360 - val_loss: 0.2375 - val_acc: 0.9050\n",
      "Epoch 13/30\n",
      "100/100 [==============================] - 2s 17ms/step - loss: 0.1723 - acc: 0.9355 - val_loss: 0.2378 - val_acc: 0.9040\n",
      "Epoch 14/30\n",
      "100/100 [==============================] - 2s 17ms/step - loss: 0.1710 - acc: 0.9420 - val_loss: 0.2336 - val_acc: 0.9070\n",
      "Epoch 15/30\n",
      "100/100 [==============================] - 2s 17ms/step - loss: 0.1599 - acc: 0.9385 - val_loss: 0.2325 - val_acc: 0.9040\n",
      "Epoch 16/30\n",
      "100/100 [==============================] - 2s 17ms/step - loss: 0.1526 - acc: 0.9390 - val_loss: 0.2326 - val_acc: 0.9050\n",
      "Epoch 17/30\n",
      "100/100 [==============================] - 2s 17ms/step - loss: 0.1523 - acc: 0.9495 - val_loss: 0.2336 - val_acc: 0.9050\n",
      "Epoch 18/30\n",
      "100/100 [==============================] - 2s 17ms/step - loss: 0.1445 - acc: 0.9520 - val_loss: 0.2316 - val_acc: 0.9050\n",
      "Epoch 19/30\n",
      "100/100 [==============================] - 2s 17ms/step - loss: 0.1329 - acc: 0.9570 - val_loss: 0.2331 - val_acc: 0.9060\n",
      "Epoch 20/30\n",
      "100/100 [==============================] - 2s 17ms/step - loss: 0.1303 - acc: 0.9595 - val_loss: 0.2417 - val_acc: 0.8960\n",
      "Epoch 21/30\n",
      "100/100 [==============================] - 2s 17ms/step - loss: 0.1241 - acc: 0.9610 - val_loss: 0.2369 - val_acc: 0.9010\n",
      "Epoch 22/30\n",
      "100/100 [==============================] - 2s 17ms/step - loss: 0.1133 - acc: 0.9630 - val_loss: 0.2428 - val_acc: 0.9000\n",
      "Epoch 23/30\n",
      "100/100 [==============================] - 2s 17ms/step - loss: 0.1182 - acc: 0.9610 - val_loss: 0.2334 - val_acc: 0.9040\n",
      "Epoch 24/30\n",
      "100/100 [==============================] - 2s 17ms/step - loss: 0.1089 - acc: 0.9645 - val_loss: 0.2323 - val_acc: 0.9040\n",
      "Epoch 25/30\n",
      "100/100 [==============================] - 2s 17ms/step - loss: 0.1040 - acc: 0.9650 - val_loss: 0.2335 - val_acc: 0.9050\n",
      "Epoch 26/30\n",
      "100/100 [==============================] - 2s 17ms/step - loss: 0.1067 - acc: 0.9640 - val_loss: 0.2314 - val_acc: 0.9040\n",
      "Epoch 27/30\n",
      "100/100 [==============================] - 2s 17ms/step - loss: 0.1017 - acc: 0.9725 - val_loss: 0.2330 - val_acc: 0.9040\n",
      "Epoch 28/30\n",
      "100/100 [==============================] - 2s 17ms/step - loss: 0.0935 - acc: 0.9700 - val_loss: 0.2339 - val_acc: 0.9050\n",
      "Epoch 29/30\n",
      "100/100 [==============================] - 2s 17ms/step - loss: 0.0924 - acc: 0.9725 - val_loss: 0.2483 - val_acc: 0.8980\n",
      "Epoch 30/30\n",
      "100/100 [==============================] - 2s 17ms/step - loss: 0.0880 - acc: 0.9710 - val_loss: 0.2400 - val_acc: 0.9020\n"
     ]
    }
   ],
   "source": [
    "from keras import models\n",
    "from keras import layers\n",
    "from keras import optimizers\n",
    "\n",
    "model = models.Sequential()\n",
    "model.add(layers.Dense(256, activation='relu', input_dim=4*4*512))\n",
    "model.add(layers.Dropout(0.5))\n",
    "model.add(layers.Dense(1, activation='sigmoid'))\n",
    "\n",
    "model.compile(optimizer=optimizers.RMSprop(lr=2e-5),\n",
    "             loss='binary_crossentropy',\n",
    "             metrics=['acc'])\n",
    "\n",
    "history = model.fit(train_features, train_labels,\n",
    "                   epochs=30,\n",
    "                   batch_size=20,\n",
    "                   validation_data=(validation_features, validation_labels))"
   ]
  },
  {
   "cell_type": "code",
   "execution_count": 14,
   "metadata": {},
   "outputs": [
    {
     "data": {
      "image/png": "[encoded data removed]",
      "text/plain": [
       "<Figure size 432x288 with 1 Axes>"
      ]
     },
     "metadata": {
      "needs_background": "light"
     },
     "output_type": "display_data"
    },
    {
     "data": {
      "image/png": "[encoded data removed]",
      "text/plain": [
       "<Figure size 432x288 with 1 Axes>"
      ]
     },
     "metadata": {
      "needs_background": "light"
     },
     "output_type": "display_data"
    }
   ],
   "source": [
    "import matplotlib.pyplot as plt\n",
    "\n",
    "acc = history.history['acc']\n",
    "val_acc = history.history['val_acc']\n",
    "loss = history.history['loss']\n",
    "val_loss = history.history['val_loss']\n",
    "\n",
    "epochs = range(1, len(acc) + 1)\n",
    "\n",
    "plt.plot(epochs, acc, 'bo', label='Training acc')\n",
    "plt.plot(epochs, val_acc, 'b', label='Validation acc')\n",
    "plt.title('Training and validation accuracy')\n",
    "plt.legend()\n",
    "\n",
    "plt.figure()\n",
    "\n",
    "plt.plot(epochs, loss, 'bo', label='Training loss')\n",
    "plt.plot(epochs, val_loss, 'b', label='Validation loss')\n",
    "plt.title('Training and validation loss')\n",
    "plt.legend()\n",
    "\n",
    "plt.show()"
   ]
  },
  {
   "cell_type": "code",
   "execution_count": 15,
   "metadata": {},
   "outputs": [
    {
     "name": "stdout",
     "output_type": "stream",
     "text": [
      "Model: \"sequential_1\"\n",
      "_________________________________________________________________\n",
      "Layer (type)                 Output Shape              Param #   \n",
      "=================================================================\n",
      "vgg16 (Functional)           (None, 4, 4, 512)         14714688  \n",
      "_________________________________________________________________\n",
      "flatten (Flatten)            (None, 8192)              0         \n",
      "_________________________________________________________________\n",
      "dense_2 (Dense)              (None, 256)               2097408   \n",
      "_________________________________________________________________\n",
      "dense_3 (Dense)              (None, 1)                 257       \n",
      "=================================================================\n",
      "Total params: 16,812,353\n",
      "Trainable params: 16,812,353\n",
      "Non-trainable params: 0\n",
      "_________________________________________________________________\n"
     ]
    }
   ],
   "source": [
    "#Feature extraction using data augmentation\n",
    "\n",
    "from keras import models\n",
    "from keras import layers\n",
    "\n",
    "model = models.Sequential()\n",
    "model.add(conv_base)\n",
    "model.add(layers.Flatten())\n",
    "model.add(layers.Dense(256, activation='relu'))\n",
    "model.add(layers.Dense(1, activation='sigmoid'))\n",
    "model.summary()"
   ]
  },
  {
   "cell_type": "code",
   "execution_count": 16,
   "metadata": {},
   "outputs": [
    {
     "name": "stdout",
     "output_type": "stream",
     "text": [
      "conv_base를 동결하기 전 훈련되는 가중치의 수: 30\n",
      "conv_base를 동결한 후 훈련되는 가중치의 수: 4\n"
     ]
    }
   ],
   "source": [
    "print('conv_base를 동결하기 전 훈련되는 가중치의 수:', len(model.trainable_weights))\n",
    "conv_base.trainable = False\n",
    "print('conv_base를 동결한 후 훈련되는 가중치의 수:', len(model.trainable_weights))"
   ]
  },
  {
   "cell_type": "code",
   "execution_count": 17,
   "metadata": {},
   "outputs": [
    {
     "name": "stdout",
     "output_type": "stream",
     "text": [
      "Found 2000 images belonging to 2 classes.\n",
      "Found 1000 images belonging to 2 classes.\n",
      "WARNING:tensorflow:From <ipython-input-17-a67989d7d078>:31: Model.fit_generator (from tensorflow.python.keras.engine.training) is deprecated and will be removed in a future version.\n",
      "Instructions for updating:\n",
      "Please use Model.fit, which supports generators.\n",
      "Epoch 1/30\n",
      "100/100 - 132s - loss: 0.5197 - acc: 0.7680 - val_loss: 0.3941 - val_acc: 0.8620\n",
      "Epoch 2/30\n",
      "100/100 - 133s - loss: 0.3981 - acc: 0.8315 - val_loss: 0.3260 - val_acc: 0.8790\n",
      "Epoch 3/30\n",
      "100/100 - 139s - loss: 0.3578 - acc: 0.8515 - val_loss: 0.2976 - val_acc: 0.8860\n",
      "Epoch 4/30\n",
      "100/100 - 135s - loss: 0.3220 - acc: 0.8700 - val_loss: 0.2766 - val_acc: 0.8930\n",
      "Epoch 5/30\n",
      "100/100 - 134s - loss: 0.3006 - acc: 0.8760 - val_loss: 0.2742 - val_acc: 0.8890\n",
      "Epoch 6/30\n",
      "100/100 - 134s - loss: 0.2862 - acc: 0.8815 - val_loss: 0.2650 - val_acc: 0.8890\n",
      "Epoch 7/30\n",
      "100/100 - 133s - loss: 0.2721 - acc: 0.8925 - val_loss: 0.2502 - val_acc: 0.8990\n",
      "Epoch 8/30\n",
      "100/100 - 133s - loss: 0.2666 - acc: 0.8880 - val_loss: 0.2498 - val_acc: 0.8900\n",
      "Epoch 9/30\n",
      "100/100 - 134s - loss: 0.2572 - acc: 0.9000 - val_loss: 0.2422 - val_acc: 0.8980\n",
      "Epoch 10/30\n",
      "100/100 - 146s - loss: 0.2435 - acc: 0.9075 - val_loss: 0.2405 - val_acc: 0.9020\n",
      "Epoch 11/30\n",
      "100/100 - 141s - loss: 0.2455 - acc: 0.8950 - val_loss: 0.2371 - val_acc: 0.9030\n",
      "Epoch 12/30\n",
      "100/100 - 141s - loss: 0.2407 - acc: 0.9060 - val_loss: 0.2366 - val_acc: 0.9050\n",
      "Epoch 13/30\n",
      "100/100 - 137s - loss: 0.2367 - acc: 0.9070 - val_loss: 0.2393 - val_acc: 0.8990\n",
      "Epoch 14/30\n",
      "100/100 - 134s - loss: 0.2382 - acc: 0.9055 - val_loss: 0.2345 - val_acc: 0.9050\n",
      "Epoch 15/30\n",
      "100/100 - 140s - loss: 0.2227 - acc: 0.9120 - val_loss: 0.2341 - val_acc: 0.9060\n",
      "Epoch 16/30\n",
      "100/100 - 171s - loss: 0.2276 - acc: 0.9040 - val_loss: 0.2312 - val_acc: 0.9120\n",
      "Epoch 17/30\n",
      "100/100 - 147s - loss: 0.2157 - acc: 0.9180 - val_loss: 0.2336 - val_acc: 0.9110\n",
      "Epoch 18/30\n",
      "100/100 - 146s - loss: 0.2193 - acc: 0.9125 - val_loss: 0.2271 - val_acc: 0.9110\n",
      "Epoch 19/30\n",
      "100/100 - 147s - loss: 0.2094 - acc: 0.9130 - val_loss: 0.2296 - val_acc: 0.9050\n",
      "Epoch 20/30\n",
      "100/100 - 140s - loss: 0.2089 - acc: 0.9130 - val_loss: 0.2296 - val_acc: 0.9100\n",
      "Epoch 21/30\n",
      "100/100 - 136s - loss: 0.2069 - acc: 0.9155 - val_loss: 0.2255 - val_acc: 0.9120\n",
      "Epoch 22/30\n",
      "100/100 - 136s - loss: 0.2078 - acc: 0.9165 - val_loss: 0.2262 - val_acc: 0.9100\n",
      "Epoch 23/30\n",
      "100/100 - 136s - loss: 0.2014 - acc: 0.9195 - val_loss: 0.2245 - val_acc: 0.9090\n",
      "Epoch 24/30\n",
      "100/100 - 135s - loss: 0.1993 - acc: 0.9245 - val_loss: 0.2317 - val_acc: 0.9100\n",
      "Epoch 25/30\n",
      "100/100 - 155s - loss: 0.1963 - acc: 0.9245 - val_loss: 0.2329 - val_acc: 0.9040\n",
      "Epoch 26/30\n",
      "100/100 - 285s - loss: 0.1947 - acc: 0.9205 - val_loss: 0.2277 - val_acc: 0.9090\n",
      "Epoch 27/30\n",
      "100/100 - 354s - loss: 0.1945 - acc: 0.9260 - val_loss: 0.2266 - val_acc: 0.9100\n",
      "Epoch 28/30\n",
      "100/100 - 389s - loss: 0.1834 - acc: 0.9225 - val_loss: 0.2292 - val_acc: 0.9060\n",
      "Epoch 29/30\n",
      "100/100 - 416s - loss: 0.1821 - acc: 0.9245 - val_loss: 0.2339 - val_acc: 0.9060\n",
      "Epoch 30/30\n",
      "100/100 - 485s - loss: 0.1880 - acc: 0.9290 - val_loss: 0.2270 - val_acc: 0.9160\n"
     ]
    }
   ],
   "source": [
    "train_datagen = ImageDataGenerator(\n",
    "    rescale=1./255,\n",
    "    rotation_range=20,\n",
    "    width_shift_range=0.1,\n",
    "    height_shift_range=0.1,\n",
    "    shear_range=0.1,\n",
    "    zoom_range=0.1,\n",
    "    horizontal_flip=True,\n",
    "    fill_mode='nearest')\n",
    "\n",
    "test_datagen = ImageDataGenerator(rescale=1./255)\n",
    "\n",
    "train_generator = train_datagen.flow_from_directory(\n",
    "    train_dir,\n",
    "    target_size=(150, 150),\n",
    "    batch_size=20,\n",
    "    class_mode='binary'\n",
    ")\n",
    "\n",
    "validation_generator = test_datagen.flow_from_directory(\n",
    "    validation_dir,\n",
    "    target_size=(150, 150),\n",
    "    batch_size=20,\n",
    "    class_mode='binary'\n",
    ")\n",
    "\n",
    "model.compile(loss='binary_crossentropy',\n",
    "             optimizer=optimizers.RMSprop(lr=2e-5),\n",
    "             metrics=['acc'])\n",
    "\n",
    "history = model.fit_generator(\n",
    "    train_generator,\n",
    "    steps_per_epoch=100,\n",
    "    epochs=30,\n",
    "    validation_data=validation_generator,\n",
    "    validation_steps=50,\n",
    "    verbose=2\n",
    ")"
   ]
  },
  {
   "cell_type": "code",
   "execution_count": 18,
   "metadata": {},
   "outputs": [
    {
     "data": {
      "image/png": "[encoded data removed]",
      "text/plain": [
       "<Figure size 432x288 with 1 Axes>"
      ]
     },
     "metadata": {
      "needs_background": "light"
     },
     "output_type": "display_data"
    },
    {
     "data": {
      "image/png": "[encoded data removed]",
      "text/plain": [
       "<Figure size 432x288 with 1 Axes>"
      ]
     },
     "metadata": {
      "needs_background": "light"
     },
     "output_type": "display_data"
    }
   ],
   "source": [
    "acc = history.history['acc']\n",
    "val_acc = history.history['val_acc']\n",
    "loss = history.history['loss']\n",
    "val_loss = history.history['val_loss']\n",
    "\n",
    "epochs = range(1, len(acc) + 1)\n",
    "\n",
    "plt.plot(epochs, acc, 'bo', label='Training acc')\n",
    "plt.plot(epochs, val_acc, 'b', label='Validation acc')\n",
    "plt.title('Training and validation accuracy')\n",
    "plt.legend()\n",
    "\n",
    "plt.figure()\n",
    "\n",
    "plt.plot(epochs, loss, 'bo', label='Training loss')\n",
    "plt.plot(epochs, val_loss, 'b', label='Validation loss')\n",
    "plt.title('Training and validation loss')\n",
    "plt.legend()\n",
    "\n",
    "plt.show()"
   ]
  },
  {
   "cell_type": "code",
   "execution_count": 19,
   "metadata": {},
   "outputs": [],
   "source": [
    "#Fine tuning\n",
    "\n",
    "conv_base.trainable = True\n",
    "\n",
    "set_trainable = False\n",
    "for layer in conv_base.layers:\n",
    "    if layer.name == 'block5_conv1':\n",
    "        set_trainable = True\n",
    "    if set_trainable:\n",
    "        layer.trainable = True\n",
    "    else:\n",
    "        layer.trainable = False"
   ]
  },
  {
   "cell_type": "code",
   "execution_count": 21,
   "metadata": {},
   "outputs": [
    {
     "name": "stdout",
     "output_type": "stream",
     "text": [
      "Epoch 1/100\n",
      "100/100 [==============================] - 168s 2s/step - loss: 0.2102 - acc: 0.9150 - val_loss: 0.2263 - val_acc: 0.9130\n",
      "Epoch 2/100\n",
      "100/100 [==============================] - 179s 2s/step - loss: 0.1662 - acc: 0.9340 - val_loss: 0.2067 - val_acc: 0.9210\n",
      "Epoch 3/100\n",
      "100/100 [==============================] - 181s 2s/step - loss: 0.1362 - acc: 0.9470 - val_loss: 0.2107 - val_acc: 0.9200\n",
      "Epoch 4/100\n",
      "100/100 [==============================] - 184s 2s/step - loss: 0.1203 - acc: 0.9550 - val_loss: 0.2023 - val_acc: 0.9270\n",
      "Epoch 5/100\n",
      "100/100 [==============================] - 186s 2s/step - loss: 0.1085 - acc: 0.9575 - val_loss: 0.2533 - val_acc: 0.8970\n",
      "Epoch 6/100\n",
      "100/100 [==============================] - 187s 2s/step - loss: 0.0952 - acc: 0.9620 - val_loss: 0.2365 - val_acc: 0.9140\n",
      "Epoch 7/100\n",
      "100/100 [==============================] - 184s 2s/step - loss: 0.0840 - acc: 0.9665 - val_loss: 0.2047 - val_acc: 0.9260\n",
      "Epoch 8/100\n",
      "100/100 [==============================] - 188s 2s/step - loss: 0.0634 - acc: 0.9790 - val_loss: 0.2200 - val_acc: 0.9210\n",
      "Epoch 9/100\n",
      "100/100 [==============================] - 186s 2s/step - loss: 0.0664 - acc: 0.9750 - val_loss: 0.2635 - val_acc: 0.9140\n",
      "Epoch 10/100\n",
      "100/100 [==============================] - 188s 2s/step - loss: 0.0613 - acc: 0.9780 - val_loss: 0.2382 - val_acc: 0.9190\n",
      "Epoch 11/100\n",
      "100/100 [==============================] - 189s 2s/step - loss: 0.0576 - acc: 0.9780 - val_loss: 0.2201 - val_acc: 0.9270\n",
      "Epoch 12/100\n",
      "100/100 [==============================] - 187s 2s/step - loss: 0.0477 - acc: 0.9820 - val_loss: 0.2303 - val_acc: 0.9240\n",
      "Epoch 13/100\n",
      "100/100 [==============================] - 190s 2s/step - loss: 0.0426 - acc: 0.9865 - val_loss: 0.2276 - val_acc: 0.9280\n",
      "Epoch 14/100\n",
      "100/100 [==============================] - 188s 2s/step - loss: 0.0339 - acc: 0.9905 - val_loss: 0.2673 - val_acc: 0.9210\n",
      "Epoch 15/100\n",
      "100/100 [==============================] - 189s 2s/step - loss: 0.0307 - acc: 0.9900 - val_loss: 0.2200 - val_acc: 0.9320\n",
      "Epoch 16/100\n",
      "100/100 [==============================] - 189s 2s/step - loss: 0.0339 - acc: 0.9895 - val_loss: 0.2390 - val_acc: 0.9250\n",
      "Epoch 17/100\n",
      "100/100 [==============================] - 188s 2s/step - loss: 0.0309 - acc: 0.9900 - val_loss: 0.2525 - val_acc: 0.9290\n",
      "Epoch 18/100\n",
      "100/100 [==============================] - 188s 2s/step - loss: 0.0272 - acc: 0.9890 - val_loss: 0.2662 - val_acc: 0.9200\n",
      "Epoch 19/100\n",
      "100/100 [==============================] - 198s 2s/step - loss: 0.0219 - acc: 0.9930 - val_loss: 0.2719 - val_acc: 0.9230\n",
      "Epoch 20/100\n",
      "100/100 [==============================] - 189s 2s/step - loss: 0.0230 - acc: 0.9910 - val_loss: 0.2563 - val_acc: 0.9270\n",
      "Epoch 21/100\n",
      "100/100 [==============================] - 179s 2s/step - loss: 0.0258 - acc: 0.9915 - val_loss: 0.4163 - val_acc: 0.9000\n",
      "Epoch 22/100\n",
      "100/100 [==============================] - 172s 2s/step - loss: 0.0136 - acc: 0.9950 - val_loss: 0.2596 - val_acc: 0.9210\n",
      "Epoch 23/100\n",
      "100/100 [==============================] - 181s 2s/step - loss: 0.0180 - acc: 0.9935 - val_loss: 0.2435 - val_acc: 0.9360\n",
      "Epoch 24/100\n",
      "100/100 [==============================] - 185s 2s/step - loss: 0.0164 - acc: 0.9950 - val_loss: 0.3984 - val_acc: 0.9100\n",
      "Epoch 25/100\n",
      "100/100 [==============================] - 186s 2s/step - loss: 0.0226 - acc: 0.9930 - val_loss: 0.2621 - val_acc: 0.9240\n",
      "Epoch 26/100\n",
      "100/100 [==============================] - 185s 2s/step - loss: 0.0134 - acc: 0.9950 - val_loss: 0.2680 - val_acc: 0.9280\n",
      "Epoch 27/100\n",
      "100/100 [==============================] - 182s 2s/step - loss: 0.0142 - acc: 0.9960 - val_loss: 0.5084 - val_acc: 0.8870\n",
      "Epoch 28/100\n",
      "100/100 [==============================] - 191s 2s/step - loss: 0.0108 - acc: 0.9955 - val_loss: 0.2626 - val_acc: 0.9320\n",
      "Epoch 29/100\n",
      "100/100 [==============================] - 195s 2s/step - loss: 0.0123 - acc: 0.9950 - val_loss: 0.2671 - val_acc: 0.9310\n",
      "Epoch 30/100\n",
      "100/100 [==============================] - 179s 2s/step - loss: 0.0089 - acc: 0.9970 - val_loss: 0.2883 - val_acc: 0.9310\n",
      "Epoch 31/100\n",
      "100/100 [==============================] - 168s 2s/step - loss: 0.0128 - acc: 0.9960 - val_loss: 0.3845 - val_acc: 0.9100\n",
      "Epoch 32/100\n",
      "100/100 [==============================] - 171s 2s/step - loss: 0.0156 - acc: 0.9925 - val_loss: 0.2629 - val_acc: 0.9260\n",
      "Epoch 33/100\n",
      "100/100 [==============================] - 178s 2s/step - loss: 0.0052 - acc: 1.0000 - val_loss: 0.2941 - val_acc: 0.9290\n",
      "Epoch 34/100\n",
      "100/100 [==============================] - 168s 2s/step - loss: 0.0134 - acc: 0.9950 - val_loss: 0.2786 - val_acc: 0.9290\n",
      "Epoch 35/100\n",
      "100/100 [==============================] - 163s 2s/step - loss: 0.0130 - acc: 0.9970 - val_loss: 0.2867 - val_acc: 0.9260\n",
      "Epoch 36/100\n",
      "100/100 [==============================] - 162s 2s/step - loss: 0.0119 - acc: 0.9975 - val_loss: 0.2812 - val_acc: 0.9270\n",
      "Epoch 37/100\n",
      "100/100 [==============================] - 161s 2s/step - loss: 0.0069 - acc: 0.9970 - val_loss: 0.3347 - val_acc: 0.9210\n",
      "Epoch 38/100\n",
      "100/100 [==============================] - 162s 2s/step - loss: 0.0127 - acc: 0.9975 - val_loss: 0.3260 - val_acc: 0.9240\n",
      "Epoch 39/100\n",
      "100/100 [==============================] - 163s 2s/step - loss: 0.0075 - acc: 0.9975 - val_loss: 0.2831 - val_acc: 0.9310\n",
      "Epoch 40/100\n",
      "100/100 [==============================] - 163s 2s/step - loss: 0.0052 - acc: 0.9985 - val_loss: 0.2688 - val_acc: 0.9360\n",
      "Epoch 41/100\n",
      "100/100 [==============================] - 163s 2s/step - loss: 0.0069 - acc: 0.9975 - val_loss: 0.2843 - val_acc: 0.9350\n",
      "Epoch 42/100\n",
      "100/100 [==============================] - 163s 2s/step - loss: 0.0069 - acc: 0.9965 - val_loss: 0.2511 - val_acc: 0.9410\n",
      "Epoch 43/100\n",
      "100/100 [==============================] - 163s 2s/step - loss: 0.0091 - acc: 0.9970 - val_loss: 0.3917 - val_acc: 0.9180\n",
      "Epoch 44/100\n",
      "100/100 [==============================] - 171s 2s/step - loss: 0.0060 - acc: 0.9975 - val_loss: 0.3001 - val_acc: 0.9330\n",
      "Epoch 45/100\n",
      "100/100 [==============================] - 172s 2s/step - loss: 0.0052 - acc: 0.9985 - val_loss: 0.3325 - val_acc: 0.9250\n",
      "Epoch 46/100\n",
      "100/100 [==============================] - 163s 2s/step - loss: 0.0084 - acc: 0.9975 - val_loss: 0.2971 - val_acc: 0.9340\n",
      "Epoch 47/100\n",
      "100/100 [==============================] - 163s 2s/step - loss: 0.0066 - acc: 0.9975 - val_loss: 0.2959 - val_acc: 0.9330\n",
      "Epoch 48/100\n",
      "100/100 [==============================] - 162s 2s/step - loss: 0.0043 - acc: 0.9995 - val_loss: 0.3339 - val_acc: 0.9290\n",
      "Epoch 49/100\n",
      "100/100 [==============================] - 162s 2s/step - loss: 0.0060 - acc: 0.9975 - val_loss: 0.2991 - val_acc: 0.9300\n",
      "Epoch 50/100\n",
      "100/100 [==============================] - 161s 2s/step - loss: 0.0062 - acc: 0.9975 - val_loss: 0.3076 - val_acc: 0.9350\n",
      "Epoch 51/100\n",
      "100/100 [==============================] - 165s 2s/step - loss: 0.0086 - acc: 0.9970 - val_loss: 0.2958 - val_acc: 0.9360\n",
      "Epoch 52/100\n",
      "100/100 [==============================] - 184s 2s/step - loss: 0.0062 - acc: 0.9980 - val_loss: 0.2968 - val_acc: 0.9330\n",
      "Epoch 53/100\n",
      "100/100 [==============================] - 188s 2s/step - loss: 0.0023 - acc: 1.0000 - val_loss: 0.3494 - val_acc: 0.9270\n",
      "Epoch 54/100\n",
      "100/100 [==============================] - 188s 2s/step - loss: 0.0070 - acc: 0.9985 - val_loss: 0.3203 - val_acc: 0.9320\n",
      "Epoch 55/100\n",
      "100/100 [==============================] - 177s 2s/step - loss: 0.0081 - acc: 0.9970 - val_loss: 0.3265 - val_acc: 0.9290\n",
      "Epoch 56/100\n",
      "100/100 [==============================] - 178s 2s/step - loss: 0.0067 - acc: 0.9965 - val_loss: 0.3201 - val_acc: 0.9340\n",
      "Epoch 57/100\n",
      "100/100 [==============================] - 181s 2s/step - loss: 0.0045 - acc: 0.9990 - val_loss: 0.2919 - val_acc: 0.9320\n",
      "Epoch 58/100\n",
      "100/100 [==============================] - 172s 2s/step - loss: 0.0061 - acc: 0.9975 - val_loss: 0.3271 - val_acc: 0.9310\n",
      "Epoch 59/100\n",
      "100/100 [==============================] - 166s 2s/step - loss: 0.0048 - acc: 0.9985 - val_loss: 0.3173 - val_acc: 0.9310\n",
      "Epoch 60/100\n",
      "100/100 [==============================] - 167s 2s/step - loss: 0.0033 - acc: 0.9990 - val_loss: 0.3257 - val_acc: 0.9270\n",
      "Epoch 61/100\n",
      "100/100 [==============================] - 164s 2s/step - loss: 0.0038 - acc: 0.9985 - val_loss: 0.3238 - val_acc: 0.9380\n"
     ]
    },
    {
     "name": "stdout",
     "output_type": "stream",
     "text": [
      "Epoch 62/100\n",
      "100/100 [==============================] - 163s 2s/step - loss: 0.0031 - acc: 0.9995 - val_loss: 0.3280 - val_acc: 0.9360\n",
      "Epoch 63/100\n",
      "100/100 [==============================] - 163s 2s/step - loss: 0.0034 - acc: 0.9985 - val_loss: 0.3038 - val_acc: 0.9340\n",
      "Epoch 64/100\n",
      "100/100 [==============================] - 162s 2s/step - loss: 0.0014 - acc: 1.0000 - val_loss: 0.4333 - val_acc: 0.9250\n",
      "Epoch 65/100\n",
      "100/100 [==============================] - 161s 2s/step - loss: 0.0013 - acc: 0.9995 - val_loss: 0.4026 - val_acc: 0.9240\n",
      "Epoch 66/100\n",
      "100/100 [==============================] - 161s 2s/step - loss: 0.0017 - acc: 0.9995 - val_loss: 0.4774 - val_acc: 0.9140\n",
      "Epoch 67/100\n",
      "100/100 [==============================] - 161s 2s/step - loss: 0.0011 - acc: 0.9995 - val_loss: 0.3640 - val_acc: 0.9280\n",
      "Epoch 68/100\n",
      "100/100 [==============================] - 161s 2s/step - loss: 0.0063 - acc: 0.9975 - val_loss: 0.3197 - val_acc: 0.9340\n",
      "Epoch 69/100\n",
      "100/100 [==============================] - 173s 2s/step - loss: 0.0053 - acc: 0.9985 - val_loss: 0.3533 - val_acc: 0.9330\n",
      "Epoch 70/100\n",
      "100/100 [==============================] - 175s 2s/step - loss: 0.0025 - acc: 0.9995 - val_loss: 0.3501 - val_acc: 0.9330\n",
      "Epoch 71/100\n",
      "100/100 [==============================] - 173s 2s/step - loss: 4.7237e-04 - acc: 1.0000 - val_loss: 0.3682 - val_acc: 0.9300\n",
      "Epoch 72/100\n",
      "100/100 [==============================] - 172s 2s/step - loss: 0.0034 - acc: 0.9985 - val_loss: 0.3406 - val_acc: 0.9320\n",
      "Epoch 73/100\n",
      "100/100 [==============================] - 173s 2s/step - loss: 0.0040 - acc: 0.9985 - val_loss: 0.3538 - val_acc: 0.9280\n",
      "Epoch 74/100\n",
      "100/100 [==============================] - 173s 2s/step - loss: 0.0023 - acc: 0.9995 - val_loss: 0.4644 - val_acc: 0.9170\n",
      "Epoch 75/100\n",
      "100/100 [==============================] - 174s 2s/step - loss: 0.0049 - acc: 0.9995 - val_loss: 0.4364 - val_acc: 0.9220\n",
      "Epoch 76/100\n",
      "100/100 [==============================] - 169s 2s/step - loss: 0.0033 - acc: 0.9995 - val_loss: 0.7769 - val_acc: 0.8970\n",
      "Epoch 77/100\n",
      "100/100 [==============================] - 174s 2s/step - loss: 0.0043 - acc: 0.9975 - val_loss: 0.3545 - val_acc: 0.9350\n",
      "Epoch 78/100\n",
      "100/100 [==============================] - 170s 2s/step - loss: 0.0066 - acc: 0.9985 - val_loss: 0.3216 - val_acc: 0.9340\n",
      "Epoch 79/100\n",
      "100/100 [==============================] - 170s 2s/step - loss: 0.0045 - acc: 0.9995 - val_loss: 0.3745 - val_acc: 0.9260\n",
      "Epoch 80/100\n",
      "100/100 [==============================] - 163s 2s/step - loss: 8.7602e-04 - acc: 0.9995 - val_loss: 0.3368 - val_acc: 0.9290\n",
      "Epoch 81/100\n",
      "100/100 [==============================] - 169s 2s/step - loss: 0.0051 - acc: 0.9980 - val_loss: 0.3539 - val_acc: 0.9390\n",
      "Epoch 82/100\n",
      "100/100 [==============================] - 163s 2s/step - loss: 8.2230e-04 - acc: 0.9995 - val_loss: 0.3503 - val_acc: 0.9350\n",
      "Epoch 83/100\n",
      "100/100 [==============================] - 164s 2s/step - loss: 0.0089 - acc: 0.9985 - val_loss: 0.3592 - val_acc: 0.9340\n",
      "Epoch 84/100\n",
      "100/100 [==============================] - 162s 2s/step - loss: 0.0039 - acc: 0.9995 - val_loss: 0.3712 - val_acc: 0.9350\n",
      "Epoch 85/100\n",
      "100/100 [==============================] - 161s 2s/step - loss: 0.0012 - acc: 0.9990 - val_loss: 0.4033 - val_acc: 0.9330\n",
      "Epoch 86/100\n",
      "100/100 [==============================] - 163s 2s/step - loss: 8.3492e-04 - acc: 0.9995 - val_loss: 0.4195 - val_acc: 0.9320\n",
      "Epoch 87/100\n",
      "100/100 [==============================] - 161s 2s/step - loss: 0.0014 - acc: 0.9990 - val_loss: 0.4092 - val_acc: 0.9330\n",
      "Epoch 88/100\n",
      "100/100 [==============================] - 158s 2s/step - loss: 0.0056 - acc: 0.9980 - val_loss: 0.3597 - val_acc: 0.9340\n",
      "Epoch 89/100\n",
      "100/100 [==============================] - 158s 2s/step - loss: 0.0016 - acc: 0.9995 - val_loss: 0.4142 - val_acc: 0.9250\n",
      "Epoch 90/100\n",
      "100/100 [==============================] - 158s 2s/step - loss: 0.0030 - acc: 0.9990 - val_loss: 0.3665 - val_acc: 0.9330\n",
      "Epoch 91/100\n",
      "100/100 [==============================] - 158s 2s/step - loss: 0.0031 - acc: 0.9990 - val_loss: 0.4658 - val_acc: 0.9200\n",
      "Epoch 92/100\n",
      "100/100 [==============================] - 159s 2s/step - loss: 9.9808e-04 - acc: 1.0000 - val_loss: 0.3530 - val_acc: 0.9350\n",
      "Epoch 93/100\n",
      "100/100 [==============================] - 162s 2s/step - loss: 1.0058e-04 - acc: 1.0000 - val_loss: 0.4432 - val_acc: 0.9350\n",
      "Epoch 94/100\n",
      "100/100 [==============================] - 164s 2s/step - loss: 0.0015 - acc: 0.9990 - val_loss: 0.4385 - val_acc: 0.9260\n",
      "Epoch 95/100\n",
      "100/100 [==============================] - 162s 2s/step - loss: 8.4113e-04 - acc: 1.0000 - val_loss: 0.4719 - val_acc: 0.9360\n",
      "Epoch 96/100\n",
      "100/100 [==============================] - 161s 2s/step - loss: 0.0034 - acc: 0.9985 - val_loss: 0.4149 - val_acc: 0.9300\n",
      "Epoch 97/100\n",
      "100/100 [==============================] - 160s 2s/step - loss: 2.6186e-04 - acc: 1.0000 - val_loss: 0.4103 - val_acc: 0.9230\n",
      "Epoch 98/100\n",
      "100/100 [==============================] - 159s 2s/step - loss: 0.0019 - acc: 0.9990 - val_loss: 0.4555 - val_acc: 0.9300\n",
      "Epoch 99/100\n",
      "100/100 [==============================] - 159s 2s/step - loss: 0.0012 - acc: 0.9995 - val_loss: 0.5748 - val_acc: 0.9190\n",
      "Epoch 100/100\n",
      "100/100 [==============================] - 157s 2s/step - loss: 0.0050 - acc: 0.9985 - val_loss: 0.3898 - val_acc: 0.9350\n"
     ]
    }
   ],
   "source": [
    "model.compile(loss='binary_crossentropy',\n",
    "             optimizer=optimizers.RMSprop(lr=1e-5),\n",
    "             metrics=['acc'])\n",
    "\n",
    "history = model.fit_generator(\n",
    "    train_generator,\n",
    "    steps_per_epoch=100,\n",
    "    epochs=100,\n",
    "    validation_data=validation_generator,\n",
    "    validation_steps=50\n",
    ")"
   ]
  },
  {
   "cell_type": "code",
   "execution_count": 22,
   "metadata": {},
   "outputs": [
    {
     "data": {
      "image/png": "[encoded data removed]",
      "text/plain": [
       "<Figure size 432x288 with 1 Axes>"
      ]
     },
     "metadata": {
      "needs_background": "light"
     },
     "output_type": "display_data"
    },
    {
     "data": {
      "image/png": "[encoded data removed]",
      "text/plain": [
       "<Figure size 432x288 with 1 Axes>"
      ]
     },
     "metadata": {
      "needs_background": "light"
     },
     "output_type": "display_data"
    }
   ],
   "source": [
    "acc = history.history['acc']\n",
    "val_acc = history.history['val_acc']\n",
    "loss = history.history['loss']\n",
    "val_loss = history.history['val_loss']\n",
    "\n",
    "epochs = range(1, len(acc) + 1)\n",
    "\n",
    "plt.plot(epochs, acc, 'bo', label='Training acc')\n",
    "plt.plot(epochs, val_acc, 'b', label='Validation acc')\n",
    "plt.title('Training and validation accuracy')\n",
    "plt.legend()\n",
    "\n",
    "plt.figure()\n",
    "\n",
    "plt.plot(epochs, loss, 'bo', label='Training loss')\n",
    "plt.plot(epochs, val_loss, 'b', label='Validation loss')\n",
    "plt.title('Training and validation loss')\n",
    "plt.legend()\n",
    "\n",
    "plt.show()"
   ]
  },
  {
   "cell_type": "code",
   "execution_count": 24,
   "metadata": {},
   "outputs": [
    {
     "data": {
      "image/png": "[encoded data removed]",
      "text/plain": [
       "<Figure size 432x288 with 1 Axes>"
      ]
     },
     "metadata": {
      "needs_background": "light"
     },
     "output_type": "display_data"
    },
    {
     "data": {
      "image/png": "[encoded data removed]",
      "text/plain": [
       "<Figure size 432x288 with 1 Axes>"
      ]
     },
     "metadata": {
      "needs_background": "light"
     },
     "output_type": "display_data"
    }
   ],
   "source": [
    "def smooth_curve(points, factor=0.8):\n",
    "    smoothed_points = []\n",
    "    for point in points:\n",
    "        if smoothed_points:\n",
    "            previous = smoothed_points[-1]\n",
    "            smoothed_points.append(previous * factor + point * (1 - factor))\n",
    "        else:\n",
    "            smoothed_points.append(point)\n",
    "    return smoothed_points\n",
    "\n",
    "plt.plot(epochs, smooth_curve(acc), 'bo', label='Smoothed training acc')\n",
    "plt.plot(epochs, smooth_curve(val_acc), 'b', label='Smoothed validation acc')\n",
    "plt.title('Training and validation accuracy')\n",
    "plt.legend()\n",
    "\n",
    "plt.figure()\n",
    "\n",
    "plt.plot(epochs, smooth_curve(loss), 'bo', label='Smoothed training loss')\n",
    "plt.plot(epochs, smooth_curve(val_loss), 'b', label='Smoothed validation loss')\n",
    "plt.title('Training and validation loss')\n",
    "plt.legend()\n",
    "\n",
    "plt.show()"
   ]
  },
  {
   "cell_type": "code",
   "execution_count": 26,
   "metadata": {},
   "outputs": [
    {
     "name": "stdout",
     "output_type": "stream",
     "text": [
      "Found 1000 images belonging to 2 classes.\n",
      "WARNING:tensorflow:From <ipython-input-26-b67470e22e70>:8: Model.evaluate_generator (from tensorflow.python.keras.engine.training) is deprecated and will be removed in a future version.\n",
      "Instructions for updating:\n",
      "Please use Model.evaluate, which supports generators.\n",
      "test acc: 0.9350000023841858\n"
     ]
    }
   ],
   "source": [
    "test_generator = test_datagen.flow_from_directory(\n",
    "    test_dir,\n",
    "    target_size=(150, 150),\n",
    "    batch_size=20,\n",
    "    class_mode='binary'\n",
    ")\n",
    "\n",
    "test_loss, test_acc = model.evaluate_generator(test_generator, steps=50)\n",
    "print('test acc:', test_acc)"
   ]
  },
  {
   "cell_type": "code",
   "execution_count": null,
   "metadata": {},
   "outputs": [],
   "source": []
  }
 ],
 "metadata": {
  "kernelspec": {
   "display_name": "Python 3",
   "language": "python",
   "name": "python3"
  },
  "language_info": {
   "codemirror_mode": {
    "name": "ipython",
    "version": 3
   },
   "file_extension": ".py",
   "mimetype": "text/x-python",
   "name": "python",
   "nbconvert_exporter": "python",
   "pygments_lexer": "ipython3",
   "version": "3.8.5"
  }
 },
 "nbformat": 4,
 "nbformat_minor": 4
}
