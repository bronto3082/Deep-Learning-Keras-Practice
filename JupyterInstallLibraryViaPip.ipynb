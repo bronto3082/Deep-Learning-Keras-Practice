{
 "cells": [
  {
   "cell_type": "code",
   "execution_count": 1,
   "metadata": {},
   "outputs": [
    {
     "name": "stdout",
     "output_type": "stream",
     "text": [
      "Requirement already satisfied: numpy in c:\\users\\bronto\\anaconda3\\lib\\site-packages (1.18.5)\n",
      "Requirement already satisfied: scipy in c:\\users\\bronto\\anaconda3\\lib\\site-packages (1.4.1)\n",
      "Requirement already satisfied: matplotlib in c:\\users\\bronto\\anaconda3\\lib\\site-packages (3.3.1)\n",
      "Requirement already satisfied: ipython in c:\\users\\bronto\\anaconda3\\lib\\site-packages (7.18.1)\n",
      "Requirement already satisfied: jupyter in c:\\users\\bronto\\anaconda3\\lib\\site-packages (1.0.0)\n",
      "Requirement already satisfied: pandas in c:\\users\\bronto\\anaconda3\\lib\\site-packages (1.1.1)\n",
      "Requirement already satisfied: sympy in c:\\users\\bronto\\anaconda3\\lib\\site-packages (1.6.2)\n",
      "Requirement already satisfied: nose in c:\\users\\bronto\\anaconda3\\lib\\site-packages (1.3.7)\n",
      "Requirement already satisfied: certifi>=2020.06.20 in c:\\users\\bronto\\anaconda3\\lib\\site-packages (from matplotlib) (2020.6.20)\n",
      "Requirement already satisfied: cycler>=0.10 in c:\\users\\bronto\\anaconda3\\lib\\site-packages (from matplotlib) (0.10.0)\n",
      "Requirement already satisfied: pyparsing!=2.0.4,!=2.1.2,!=2.1.6,>=2.0.3 in c:\\users\\bronto\\anaconda3\\lib\\site-packages (from matplotlib) (2.4.7)\n",
      "Requirement already satisfied: pillow>=6.2.0 in c:\\users\\bronto\\anaconda3\\lib\\site-packages (from matplotlib) (7.2.0)\n",
      "Requirement already satisfied: python-dateutil>=2.1 in c:\\users\\bronto\\anaconda3\\lib\\site-packages (from matplotlib) (2.8.1)\n",
      "Requirement already satisfied: kiwisolver>=1.0.1 in c:\\users\\bronto\\anaconda3\\lib\\site-packages (from matplotlib) (1.2.0)\n",
      "Requirement already satisfied: jedi>=0.10 in c:\\users\\bronto\\anaconda3\\lib\\site-packages (from ipython) (0.17.1)\n",
      "Requirement already satisfied: decorator in c:\\users\\bronto\\anaconda3\\lib\\site-packages (from ipython) (4.4.2)\n",
      "Requirement already satisfied: prompt-toolkit!=3.0.0,!=3.0.1,<3.1.0,>=2.0.0 in c:\\users\\bronto\\anaconda3\\lib\\site-packages (from ipython) (3.0.7)\n",
      "Requirement already satisfied: setuptools>=18.5 in c:\\users\\bronto\\anaconda3\\lib\\site-packages (from ipython) (49.6.0.post20200814)\n",
      "Requirement already satisfied: traitlets>=4.2 in c:\\users\\bronto\\anaconda3\\lib\\site-packages (from ipython) (4.3.3)\n",
      "Requirement already satisfied: pygments in c:\\users\\bronto\\anaconda3\\lib\\site-packages (from ipython) (2.6.1)\n",
      "Requirement already satisfied: colorama; sys_platform == \"win32\" in c:\\users\\bronto\\anaconda3\\lib\\site-packages (from ipython) (0.4.3)\n",
      "Requirement already satisfied: pickleshare in c:\\users\\bronto\\anaconda3\\lib\\site-packages (from ipython) (0.7.5)\n",
      "Requirement already satisfied: backcall in c:\\users\\bronto\\anaconda3\\lib\\site-packages (from ipython) (0.2.0)\n",
      "Requirement already satisfied: ipykernel in c:\\users\\bronto\\anaconda3\\lib\\site-packages (from jupyter) (5.3.4)\n",
      "Requirement already satisfied: ipywidgets in c:\\users\\bronto\\anaconda3\\lib\\site-packages (from jupyter) (7.5.1)\n",
      "Requirement already satisfied: nbconvert in c:\\users\\bronto\\anaconda3\\lib\\site-packages (from jupyter) (5.6.1)\n",
      "Requirement already satisfied: qtconsole in c:\\users\\bronto\\anaconda3\\lib\\site-packages (from jupyter) (4.7.6)\n",
      "Requirement already satisfied: notebook in c:\\users\\bronto\\anaconda3\\lib\\site-packages (from jupyter) (6.1.1)\n",
      "Requirement already satisfied: jupyter-console in c:\\users\\bronto\\anaconda3\\lib\\site-packages (from jupyter) (6.2.0)\n",
      "Requirement already satisfied: pytz>=2017.2 in c:\\users\\bronto\\anaconda3\\lib\\site-packages (from pandas) (2020.1)\n",
      "Requirement already satisfied: mpmath>=0.19 in c:\\users\\bronto\\anaconda3\\lib\\site-packages (from sympy) (1.1.0)\n",
      "Requirement already satisfied: six in c:\\users\\bronto\\anaconda3\\lib\\site-packages (from cycler>=0.10->matplotlib) (1.15.0)\n",
      "Requirement already satisfied: parso<0.8.0,>=0.7.0 in c:\\users\\bronto\\anaconda3\\lib\\site-packages (from jedi>=0.10->ipython) (0.7.0)\n",
      "Requirement already satisfied: wcwidth in c:\\users\\bronto\\anaconda3\\lib\\site-packages (from prompt-toolkit!=3.0.0,!=3.0.1,<3.1.0,>=2.0.0->ipython) (0.2.5)\n",
      "Requirement already satisfied: ipython-genutils in c:\\users\\bronto\\anaconda3\\lib\\site-packages (from traitlets>=4.2->ipython) (0.2.0)\n",
      "Requirement already satisfied: jupyter-client in c:\\users\\bronto\\anaconda3\\lib\\site-packages (from ipykernel->jupyter) (6.1.6)\n",
      "Requirement already satisfied: tornado>=4.2 in c:\\users\\bronto\\anaconda3\\lib\\site-packages (from ipykernel->jupyter) (6.0.4)\n",
      "Requirement already satisfied: nbformat>=4.2.0 in c:\\users\\bronto\\anaconda3\\lib\\site-packages (from ipywidgets->jupyter) (5.0.7)\n",
      "Requirement already satisfied: widgetsnbextension~=3.5.0 in c:\\users\\bronto\\anaconda3\\lib\\site-packages (from ipywidgets->jupyter) (3.5.1)\n",
      "Requirement already satisfied: mistune<2,>=0.8.1 in c:\\users\\bronto\\anaconda3\\lib\\site-packages (from nbconvert->jupyter) (0.8.4)\n",
      "Requirement already satisfied: entrypoints>=0.2.2 in c:\\users\\bronto\\anaconda3\\lib\\site-packages (from nbconvert->jupyter) (0.3)\n",
      "Requirement already satisfied: testpath in c:\\users\\bronto\\anaconda3\\lib\\site-packages (from nbconvert->jupyter) (0.4.4)\n",
      "Requirement already satisfied: jupyter-core in c:\\users\\bronto\\anaconda3\\lib\\site-packages (from nbconvert->jupyter) (4.6.3)\n",
      "Requirement already satisfied: pandocfilters>=1.4.1 in c:\\users\\bronto\\anaconda3\\lib\\site-packages (from nbconvert->jupyter) (1.4.2)\n",
      "Requirement already satisfied: jinja2>=2.4 in c:\\users\\bronto\\anaconda3\\lib\\site-packages (from nbconvert->jupyter) (2.11.2)\n",
      "Requirement already satisfied: bleach in c:\\users\\bronto\\anaconda3\\lib\\site-packages (from nbconvert->jupyter) (3.1.5)\n",
      "Requirement already satisfied: defusedxml in c:\\users\\bronto\\anaconda3\\lib\\site-packages (from nbconvert->jupyter) (0.6.0)\n",
      "Requirement already satisfied: pyzmq>=17.1 in c:\\users\\bronto\\anaconda3\\lib\\site-packages (from qtconsole->jupyter) (19.0.1)\n",
      "Requirement already satisfied: qtpy in c:\\users\\bronto\\anaconda3\\lib\\site-packages (from qtconsole->jupyter) (1.9.0)\n",
      "Requirement already satisfied: prometheus-client in c:\\users\\bronto\\anaconda3\\lib\\site-packages (from notebook->jupyter) (0.8.0)\n",
      "Requirement already satisfied: argon2-cffi in c:\\users\\bronto\\anaconda3\\lib\\site-packages (from notebook->jupyter) (20.1.0)\n",
      "Requirement already satisfied: Send2Trash in c:\\users\\bronto\\anaconda3\\lib\\site-packages (from notebook->jupyter) (1.5.0)\n",
      "Requirement already satisfied: terminado>=0.8.3 in c:\\users\\bronto\\anaconda3\\lib\\site-packages (from notebook->jupyter) (0.8.3)\n",
      "Requirement already satisfied: jsonschema!=2.5.0,>=2.4 in c:\\users\\bronto\\anaconda3\\lib\\site-packages (from nbformat>=4.2.0->ipywidgets->jupyter) (3.2.0)\n",
      "Requirement already satisfied: pywin32>=1.0; sys_platform == \"win32\" in c:\\users\\bronto\\anaconda3\\lib\\site-packages (from jupyter-core->nbconvert->jupyter) (227)\n",
      "Requirement already satisfied: MarkupSafe>=0.23 in c:\\users\\bronto\\anaconda3\\lib\\site-packages (from jinja2>=2.4->nbconvert->jupyter) (1.1.1)\n",
      "Requirement already satisfied: webencodings in c:\\users\\bronto\\anaconda3\\lib\\site-packages (from bleach->nbconvert->jupyter) (0.5.1)\n",
      "Requirement already satisfied: packaging in c:\\users\\bronto\\anaconda3\\lib\\site-packages (from bleach->nbconvert->jupyter) (20.4)\n",
      "Requirement already satisfied: cffi>=1.0.0 in c:\\users\\bronto\\anaconda3\\lib\\site-packages (from argon2-cffi->notebook->jupyter) (1.14.2)\n",
      "Requirement already satisfied: attrs>=17.4.0 in c:\\users\\bronto\\anaconda3\\lib\\site-packages (from jsonschema!=2.5.0,>=2.4->nbformat>=4.2.0->ipywidgets->jupyter) (20.1.0)\n",
      "Requirement already satisfied: pyrsistent>=0.14.0 in c:\\users\\bronto\\anaconda3\\lib\\site-packages (from jsonschema!=2.5.0,>=2.4->nbformat>=4.2.0->ipywidgets->jupyter) (0.16.0)\n",
      "Requirement already satisfied: pycparser in c:\\users\\bronto\\anaconda3\\lib\\site-packages (from cffi>=1.0.0->argon2-cffi->notebook->jupyter) (2.20)\n"
     ]
    }
   ],
   "source": [
    "import sys\n",
    "!{sys.executable} -m pip install --user numpy scipy matplotlib ipython jupyter pandas sympy nose"
   ]
  },
  {
   "cell_type": "code",
   "execution_count": null,
   "metadata": {},
   "outputs": [],
   "source": []
  }
 ],
 "metadata": {
  "kernelspec": {
   "display_name": "Python 3",
   "language": "python",
   "name": "python3"
  },
  "language_info": {
   "codemirror_mode": {
    "name": "ipython",
    "version": 3
   },
   "file_extension": ".py",
   "mimetype": "text/x-python",
   "name": "python",
   "nbconvert_exporter": "python",
   "pygments_lexer": "ipython3",
   "version": "3.8.5"
  }
 },
 "nbformat": 4,
 "nbformat_minor": 4
}
