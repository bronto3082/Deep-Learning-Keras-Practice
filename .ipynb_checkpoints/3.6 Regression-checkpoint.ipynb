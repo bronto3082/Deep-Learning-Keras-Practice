{
 "cells": [
  {
   "cell_type": "code",
   "execution_count": 1,
   "metadata": {},
   "outputs": [
    {
     "name": "stdout",
     "output_type": "stream",
     "text": [
      "(404, 13)\n",
      "(102, 13)\n",
      "[15.2 42.3 50.  21.1 17.7 18.5 11.3 15.6 15.6 14.4 12.1 17.9 23.1 19.9\n",
      " 15.7  8.8 50.  22.5 24.1 27.5 10.9 30.8 32.9 24.  18.5 13.3 22.9 34.7\n",
      " 16.6 17.5 22.3 16.1 14.9 23.1 34.9 25.  13.9 13.1 20.4 20.  15.2 24.7\n",
      " 22.2 16.7 12.7 15.6 18.4 21.  30.1 15.1 18.7  9.6 31.5 24.8 19.1 22.\n",
      " 14.5 11.  32.  29.4 20.3 24.4 14.6 19.5 14.1 14.3 15.6 10.5  6.3 19.3\n",
      " 19.3 13.4 36.4 17.8 13.5 16.5  8.3 14.3 16.  13.4 28.6 43.5 20.2 22.\n",
      " 23.  20.7 12.5 48.5 14.6 13.4 23.7 50.  21.7 39.8 38.7 22.2 34.9 22.5\n",
      " 31.1 28.7 46.  41.7 21.  26.6 15.  24.4 13.3 21.2 11.7 21.7 19.4 50.\n",
      " 22.8 19.7 24.7 36.2 14.2 18.9 18.3 20.6 24.6 18.2  8.7 44.  10.4 13.2\n",
      " 21.2 37.  30.7 22.9 20.  19.3 31.7 32.  23.1 18.8 10.9 50.  19.6  5.\n",
      " 14.4 19.8 13.8 19.6 23.9 24.5 25.  19.9 17.2 24.6 13.5 26.6 21.4 11.9\n",
      " 22.6 19.6  8.5 23.7 23.1 22.4 20.5 23.6 18.4 35.2 23.1 27.9 20.6 23.7\n",
      " 28.  13.6 27.1 23.6 20.6 18.2 21.7 17.1  8.4 25.3 13.8 22.2 18.4 20.7\n",
      " 31.6 30.5 20.3  8.8 19.2 19.4 23.1 23.  14.8 48.8 22.6 33.4 21.1 13.6\n",
      " 32.2 13.1 23.4 18.9 23.9 11.8 23.3 22.8 19.6 16.7 13.4 22.2 20.4 21.8\n",
      " 26.4 14.9 24.1 23.8 12.3 29.1 21.  19.5 23.3 23.8 17.8 11.5 21.7 19.9\n",
      " 25.  33.4 28.5 21.4 24.3 27.5 33.1 16.2 23.3 48.3 22.9 22.8 13.1 12.7\n",
      " 22.6 15.  15.3 10.5 24.  18.5 21.7 19.5 33.2 23.2  5.  19.1 12.7 22.3\n",
      " 10.2 13.9 16.3 17.  20.1 29.9 17.2 37.3 45.4 17.8 23.2 29.  22.  18.\n",
      " 17.4 34.6 20.1 25.  15.6 24.8 28.2 21.2 21.4 23.8 31.  26.2 17.4 37.9\n",
      " 17.5 20.   8.3 23.9  8.4 13.8  7.2 11.7 17.1 21.6 50.  16.1 20.4 20.6\n",
      " 21.4 20.6 36.5  8.5 24.8 10.8 21.9 17.3 18.9 36.2 14.9 18.2 33.3 21.8\n",
      " 19.7 31.6 24.8 19.4 22.8  7.5 44.8 16.8 18.7 50.  50.  19.5 20.1 50.\n",
      " 17.2 20.8 19.3 41.3 20.4 20.5 13.8 16.5 23.9 20.6 31.5 23.3 16.8 14.\n",
      " 33.8 36.1 12.8 18.3 18.7 19.1 29.  30.1 50.  50.  22.  11.9 37.6 50.\n",
      " 22.7 20.8 23.5 27.9 50.  19.3 23.9 22.6 15.2 21.7 19.2 43.8 20.3 33.2\n",
      " 19.9 22.5 32.7 22.  17.1 19.  15.  16.1 25.1 23.7 28.7 37.2 22.6 16.4\n",
      " 25.  29.8 22.1 17.4 18.1 30.3 17.5 24.7 12.6 26.5 28.7 13.3 10.4 24.4\n",
      " 23.  20.  17.8  7.  11.8 24.4 13.8 19.4 25.2 19.4 19.4 29.1]\n",
      "처리중인 폴드 # 0\n",
      "처리중인 폴드 # 1\n",
      "처리중인 폴드 # 2\n",
      "처리중인 폴드 # 3\n",
      "[2.0296077728271484, 2.6928775310516357, 2.709324836730957, 2.5678131580352783]\n",
      "2.499905824661255\n"
     ]
    }
   ],
   "source": [
    "\"\"\"\n",
    "Two examples before are classification problems. Their objectives are to predicting a label for given input data point. Another type of\n",
    "machine learning problem is regression, which predicts continuous values instead of individual labels. For example, it can be used to\n",
    "predict tomorrow's temperature given climate data, or predict time to finish the software process given software specification.\n",
    "(Regression and logistic regression are different. Logistic regression is NOT a regression problem, but rather classification problem)\n",
    "\n",
    "We will try to predict medium of housing price given crime rate, local tax rate, etc in Boston suburban area in 1970. The data set we\n",
    "will use here is different from that of two examples before. There are 506 data points in total, which is pretty small, where 404 of\n",
    "them are training samples and 102 of them are test samples. Each features in the input data has different scales. For example, some have\n",
    "value between 0 and 1, some have value between 1 and 12, some have value between 1 and 100, etc.\n",
    "\"\"\"\n",
    "\n",
    "from keras.datasets import boston_housing\n",
    "\n",
    "(train_data, train_targets), (test_data, test_targets) = boston_housing.load_data()\n",
    "\n",
    "print(train_data.shape)\n",
    "print(test_data.shape)\n",
    "\n",
    "\"\"\"\n",
    "As we can see here, there are 404 training samples and 102 test samples, and they all have 13 features. These features are crime rate,\n",
    "average room number, and accessibility to highway, etc. Target is medium price of housing in thousand dollars.\n",
    "\"\"\"\n",
    "\n",
    "print(train_targets)\n",
    "\n",
    "\"\"\"\n",
    "These prices are normally in between $10000 and $50000.\n",
    "\n",
    "It becomes a problem when we try to input values with different scales in neural network. Network can try to adjust with these data,\n",
    "but it surely makes the learning harder. If the scale of the features differ, path of gradient descent, which finds the absolute\n",
    "minimum, is more affected by features with bigger scales. Typical way to handle this data is to standardize the data by features.\n",
    "To do this, we need to do (x - mean)/(standard deviation) for each feature. Mean of the feature becomes 0 and standard deviation becomes\n",
    "1. We can use numpy to simply do this.\n",
    "\"\"\"\n",
    "\n",
    "mean = train_data.mean(axis=0)\n",
    "train_data -= mean\n",
    "std = train_data.std(axis=0)\n",
    "train_data /= std\n",
    "\n",
    "test_data -= mean\n",
    "test_data /= std\n",
    "\n",
    "\"\"\"\n",
    "Notice that the values used to standardize test data are values that we have calculated in training data. We should not use any values\n",
    "that we have calculated from test data in the process of machine learning.\n",
    "\n",
    "Since there are small number of samples, we will use a small network with 2 hidden layers with 64 hidden units. Since overfitting often\n",
    "happens when there are small number of training data, we need to use small model to prevent it.\n",
    "\"\"\"\n",
    "\n",
    "from keras import models\n",
    "from keras import layers\n",
    "\n",
    "#Since we will generate same model some times, we will create a function\n",
    "def build_model():\n",
    "    model = models.Sequential()\n",
    "    model.add(layers.Dense(64, activation='relu', input_shape=(train_data.shape[1],)))\n",
    "    model.add(layers.Dense(64, activation='relu'))\n",
    "    model.add(layers.Dense(1))\n",
    "    model.compile(optimizer='rmsprop', loss='mse', metrics=['mean_absolute_error'])\n",
    "    return model\n",
    "    \n",
    "\"\"\"\n",
    "The last layer of this network has one output unit and does not have activation function (this is called linear layer). This is a \n",
    "typical configuration for scalar regression (regression that predicts one continuous value). If we apply activation function it will\n",
    "limit the range of the output. For example, if we use sigmoid as activation function for last layer, network will output values ranged\n",
    "only from 0 to 1. In here, since last layer is purely linear, network will be able to output any real number. This model uses mse, or\n",
    "mean squared error, as loss function. It is square of difference between prediction and target. We will measure mean absolute error \n",
    "(mae) to monitor the process of training. It is an absolute value of difference between prediction and target.\n",
    "\n",
    "We divide data into training set and validation set to evaluate the model by adjusting variables like number of epochs. Since there are\n",
    "small number of data points, there will be small number of validation sets (approximately 100 samples). Therefore, validation score\n",
    "will greatly differ depending on what data point was selected as training set or validation set. In other words, variance of validation\n",
    "score for selection of validation set is high. We cannot do trustworthy validation like this. The best way to solve this situation is \n",
    "K-fold cross-validation. We divide the data to K folds (usually K = 4 or 5) and create K models and train with K - 1 folds and validate\n",
    "with the other fold. The model's validation score becomes the mean of K validation scores from each model.\n",
    "\"\"\"\n",
    "\n",
    "import numpy as np\n",
    "\n",
    "k = 4\n",
    "num_val_samples = len(train_data) // k\n",
    "num_epochs = 100\n",
    "all_scores = []\n",
    "for i in range(k):\n",
    "    print('처리중인 폴드 #', i)\n",
    "    #A particular fold becomes validation fold\n",
    "    val_data = train_data[i * num_val_samples: (i + 1) * num_val_samples]\n",
    "    val_targets = train_targets[i * num_val_samples: (i + 1) * num_val_samples]\n",
    "    \n",
    "    #Fold other than our validation fold becomes training fold\n",
    "    partial_train_data = np.concatenate(\n",
    "        [train_data[:i * num_val_samples],\n",
    "        train_data[(i + 1) * num_val_samples:]],\n",
    "        axis=0)\n",
    "    partial_train_targets = np.concatenate(\n",
    "        [train_targets[:i * num_val_samples],\n",
    "        train_targets[(i + 1) * num_val_samples:]],\n",
    "        axis=0)\n",
    "    \n",
    "    model = build_model()\n",
    "    #verbose=0 means that there will be no output of training process\n",
    "    model.fit(partial_train_data, partial_train_targets, epochs=num_epochs, batch_size=1, verbose=0)\n",
    "    val_mse, val_mae = model.evaluate(val_data, val_targets, verbose=0)\n",
    "    all_scores.append(val_mae)\n",
    "\n",
    "print(all_scores)\n",
    "print(np.mean(all_scores))"
   ]
  },
  {
   "cell_type": "code",
   "execution_count": 2,
   "metadata": {},
   "outputs": [
    {
     "name": "stdout",
     "output_type": "stream",
     "text": [
      "처리중인 폴드 # 0\n",
      "처리중인 폴드 # 1\n",
      "처리중인 폴드 # 2\n",
      "처리중인 폴드 # 3\n"
     ]
    },
    {
     "data": {
      "image/png": "[encoded data removed]",
      "text/plain": [
       "<Figure size 432x288 with 1 Axes>"
      ]
     },
     "metadata": {
      "needs_background": "light"
     },
     "output_type": "display_data"
    }
   ],
   "source": [
    "\"\"\"\n",
    "We can see that validation set varies a lot from 2.4 to 2.8. Their mean value (2.56) is more trustworthy than each of the scores. This\n",
    "is the main point of K-fold cross-validation. In this example, mean absolute error is approximately 2560 dollars. This is pretty high\n",
    "considering that the housing price ranges from 10000 dollars to 50000 dollars.\n",
    "\n",
    "We will try to train neural network longer, for 500 epochs. We will save each epoch's validation score so that we can know how model \n",
    "improves for each epoch.\n",
    "\"\"\"\n",
    "\n",
    "num_epochs = 500\n",
    "all_mae_histories = []\n",
    "for i in range(k):\n",
    "    print('처리중인 폴드 #', i)\n",
    "    \n",
    "    val_data = train_data[i * num_val_samples: (i + 1) * num_val_samples]\n",
    "    val_targets = train_targets[i * num_val_samples: (i + 1) * num_val_samples]\n",
    "    \n",
    "    partial_train_data = np.concatenate(\n",
    "        [train_data[:i * num_val_samples],\n",
    "        train_data[(i + 1) * num_val_samples:]],\n",
    "        axis=0)\n",
    "    partial_train_targets = np.concatenate(\n",
    "        [train_targets[:i * num_val_samples],\n",
    "        train_targets[(i + 1) * num_val_samples:]],\n",
    "        axis=0)\n",
    "    \n",
    "    model = build_model()\n",
    "    history = model.fit(partial_train_data, partial_train_targets, \n",
    "                        validation_data=(val_data, val_targets), epochs=num_epochs, batch_size=1, verbose=0)\n",
    "    mae_history = history.history['val_mean_absolute_error']\n",
    "    all_mae_histories.append(mae_history)\n",
    "\n",
    "average_mae_history = [\n",
    "    np.mean([x[i] for x in all_mae_histories]) for i in range(num_epochs)]\n",
    "\n",
    "import matplotlib.pyplot as plt\n",
    "\n",
    "plt.plot(range(1, len(average_mae_history) + 1), average_mae_history)\n",
    "plt.xlabel('Epochs')\n",
    "plt.ylabel('Validation MAE')\n",
    "plt.show()"
   ]
  },
  {
   "cell_type": "code",
   "execution_count": 3,
   "metadata": {},
   "outputs": [
    {
     "data": {
      "image/png": "[encoded data removed]",
      "text/plain": [
       "<Figure size 432x288 with 1 Axes>"
      ]
     },
     "metadata": {
      "needs_background": "light"
     },
     "output_type": "display_data"
    }
   ],
   "source": [
    "\"\"\"\n",
    "Since this graph has high range and fluctuations, it is hard to interpret by eyes. Let's:\n",
    "1. Remove first 10 data points that differs a lot from other data points\n",
    "2. Substitute each point with exponential moving average of previous point to get smoother curve\n",
    "\"\"\"\n",
    "\n",
    "def smooth_curve(points, factor=0.9):\n",
    "    smoothed_points = []\n",
    "    for point in points:\n",
    "        if smoothed_points:\n",
    "            previous = smoothed_points[-1]\n",
    "            smoothed_points.append(previous * factor + point * (1 - factor))\n",
    "        else:\n",
    "            smoothed_points.append(point)\n",
    "    return smoothed_points\n",
    "\n",
    "smooth_mae_history = smooth_curve(average_mae_history[10:])\n",
    "\n",
    "plt.plot(range(1, len(smooth_mae_history) + 1), smooth_mae_history)\n",
    "plt.xlabel('Epochs')\n",
    "plt.ylabel('Validation MAE')\n",
    "plt.show()"
   ]
  },
  {
   "cell_type": "code",
   "execution_count": 4,
   "metadata": {},
   "outputs": [
    {
     "name": "stdout",
     "output_type": "stream",
     "text": [
      "4/4 [==============================] - 0s 750us/step - loss: 19.1272 - mean_absolute_error: 2.8144\n",
      "2.814420223236084\n"
     ]
    }
   ],
   "source": [
    "\"\"\"\n",
    "If we look at this graph, we can see that validation MAE stopped decreasing after 80th epoch. Overfitting starts after this point.\n",
    "After tuning various variables of model (such as number of epochs, size of hidden layers, etc), we use all training data and train model\n",
    "to be used in practice with best variables. Then, we check the performance with the test data.\n",
    "\"\"\"\n",
    "\n",
    "model = build_model()\n",
    "model.fit(train_data, train_targets, epochs=80, batch_size=16, verbose=0)\n",
    "test_mse_score, test_mae_score = model.evaluate(test_data, test_targets)\n",
    "\n",
    "print(test_mae_score)"
   ]
  },
  {
   "cell_type": "code",
   "execution_count": null,
   "metadata": {},
   "outputs": [],
   "source": []
  }
 ],
 "metadata": {
  "kernelspec": {
   "display_name": "Python 3",
   "language": "python",
   "name": "python3"
  },
  "language_info": {
   "codemirror_mode": {
    "name": "ipython",
    "version": 3
   },
   "file_extension": ".py",
   "mimetype": "text/x-python",
   "name": "python",
   "nbconvert_exporter": "python",
   "pygments_lexer": "ipython3",
   "version": "3.8.5"
  }
 },
 "nbformat": 4,
 "nbformat_minor": 4
}
