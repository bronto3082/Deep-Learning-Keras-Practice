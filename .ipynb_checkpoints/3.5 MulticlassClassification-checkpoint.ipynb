{
 "cells": [
  {
   "cell_type": "code",
   "execution_count": 1,
   "metadata": {},
   "outputs": [
    {
     "name": "stdout",
     "output_type": "stream",
     "text": [
      "[1, 2, 2, 8, 43, 10, 447, 5, 25, 207, 270, 5, 3095, 111, 16, 369, 186, 90, 67, 7, 89, 5, 19, 102, 6, 19, 124, 15, 90, 67, 84, 22, 482, 26, 7, 48, 4, 49, 8, 864, 39, 209, 154, 6, 151, 6, 83, 11, 15, 22, 155, 11, 15, 7, 48, 9, 4579, 1005, 504, 6, 258, 6, 272, 11, 15, 22, 134, 44, 11, 15, 16, 8, 197, 1245, 90, 67, 52, 29, 209, 30, 32, 132, 6, 109, 15, 17, 12]\n"
     ]
    }
   ],
   "source": [
    "\"\"\"\n",
    "We will create a neural network that classifies Reuter news into 46 mutually exclusive topics. Since there are many classes to match\n",
    "data point to, this problem is multiclass classification. Specifically, each data point matches to exactly one topic, so it is \n",
    "single-label, multiclass classification problem. If a news could be matched to multiple topic, it would become multi-label, multiclass\n",
    "classification problem. In here, we will use Reuter dataset, which is a set of short news articles and topics. This dataset is included\n",
    "in keras.\n",
    "\"\"\"\n",
    "from keras.datasets import reuters\n",
    "\n",
    "(train_data, train_labels), (test_data, test_labels) = reuters.load_data(num_words=10000)\n",
    "\n",
    "#Like IMDB review, each sample is a list of integers (word indices)\n",
    "print(train_data[0])\n",
    "\n",
    "#Decoding reuter dataset to text\n",
    "word_index = reuters.get_word_index()\n",
    "reverse_word_index = dict([(value, key) for (key, value) in word_index.items()])\n",
    "decoded_newswire = ' '.join([reverse_word_index.get(i - 3, '?') for i in train_data[0]])"
   ]
  },
  {
   "cell_type": "code",
   "execution_count": 2,
   "metadata": {},
   "outputs": [
    {
     "name": "stdout",
     "output_type": "stream",
     "text": [
      "3\n",
      "Epoch 1/20\n",
      "16/16 [==============================] - 1s 69ms/step - loss: 2.6297 - accuracy: 0.4806 - val_loss: 1.7420 - val_accuracy: 0.6300\n",
      "Epoch 2/20\n",
      "16/16 [==============================] - 1s 36ms/step - loss: 1.4410 - accuracy: 0.7003 - val_loss: 1.3291 - val_accuracy: 0.7090\n",
      "Epoch 3/20\n",
      "16/16 [==============================] - 1s 36ms/step - loss: 1.0775 - accuracy: 0.7684 - val_loss: 1.1623 - val_accuracy: 0.7450\n",
      "Epoch 4/20\n",
      "16/16 [==============================] - 1s 37ms/step - loss: 0.8593 - accuracy: 0.8150 - val_loss: 1.0734 - val_accuracy: 0.7520\n",
      "Epoch 5/20\n",
      "16/16 [==============================] - 1s 36ms/step - loss: 0.6919 - accuracy: 0.8520 - val_loss: 0.9868 - val_accuracy: 0.8040\n",
      "Epoch 6/20\n",
      "16/16 [==============================] - 1s 37ms/step - loss: 0.5539 - accuracy: 0.8882 - val_loss: 0.9562 - val_accuracy: 0.8100\n",
      "Epoch 7/20\n",
      "16/16 [==============================] - 1s 42ms/step - loss: 0.4495 - accuracy: 0.9077 - val_loss: 0.9346 - val_accuracy: 0.8130\n",
      "Epoch 8/20\n",
      "16/16 [==============================] - 1s 47ms/step - loss: 0.3712 - accuracy: 0.9214 - val_loss: 0.9227 - val_accuracy: 0.8180\n",
      "Epoch 9/20\n",
      "16/16 [==============================] - 1s 40ms/step - loss: 0.3036 - accuracy: 0.9354 - val_loss: 0.9018 - val_accuracy: 0.8270\n",
      "Epoch 10/20\n",
      "16/16 [==============================] - 1s 37ms/step - loss: 0.2533 - accuracy: 0.9440 - val_loss: 0.9591 - val_accuracy: 0.8120\n",
      "Epoch 11/20\n",
      "16/16 [==============================] - 1s 42ms/step - loss: 0.2182 - accuracy: 0.9495 - val_loss: 0.9583 - val_accuracy: 0.8120\n",
      "Epoch 12/20\n",
      "16/16 [==============================] - 1s 38ms/step - loss: 0.1909 - accuracy: 0.9495 - val_loss: 0.9703 - val_accuracy: 0.8060\n",
      "Epoch 13/20\n",
      "16/16 [==============================] - 1s 38ms/step - loss: 0.1708 - accuracy: 0.9548 - val_loss: 0.9900 - val_accuracy: 0.8170\n",
      "Epoch 14/20\n",
      "16/16 [==============================] - 1s 37ms/step - loss: 0.1585 - accuracy: 0.9536 - val_loss: 1.0575 - val_accuracy: 0.7910\n",
      "Epoch 15/20\n",
      "16/16 [==============================] - 1s 41ms/step - loss: 0.1434 - accuracy: 0.9564 - val_loss: 0.9969 - val_accuracy: 0.8080\n",
      "Epoch 16/20\n",
      "16/16 [==============================] - 1s 38ms/step - loss: 0.1355 - accuracy: 0.9560 - val_loss: 1.0303 - val_accuracy: 0.8040\n",
      "Epoch 17/20\n",
      "16/16 [==============================] - 1s 37ms/step - loss: 0.1267 - accuracy: 0.9567 - val_loss: 1.0978 - val_accuracy: 0.8020\n",
      "Epoch 18/20\n",
      "16/16 [==============================] - 1s 37ms/step - loss: 0.1229 - accuracy: 0.9572 - val_loss: 1.0641 - val_accuracy: 0.8120\n",
      "Epoch 19/20\n",
      "16/16 [==============================] - 1s 34ms/step - loss: 0.1164 - accuracy: 0.9582 - val_loss: 1.1437 - val_accuracy: 0.8010\n",
      "Epoch 20/20\n",
      "16/16 [==============================] - 1s 34ms/step - loss: 0.1135 - accuracy: 0.9588 - val_loss: 1.0903 - val_accuracy: 0.8020\n"
     ]
    },
    {
     "data": {
      "image/png": "[encoded data removed]",
      "text/plain": [
       "<Figure size 432x288 with 1 Axes>"
      ]
     },
     "metadata": {
      "needs_background": "light"
     },
     "output_type": "display_data"
    },
    {
     "data": {
      "image/png": "[encoded data removed]",
      "text/plain": [
       "<Figure size 432x288 with 1 Axes>"
      ]
     },
     "metadata": {
      "needs_background": "light"
     },
     "output_type": "display_data"
    }
   ],
   "source": [
    "#Labels are topic's indices, integer ranged from 0 to 45\n",
    "print(train_labels[10])\n",
    "\n",
    "#Convert data into vector\n",
    "import numpy as np\n",
    "\n",
    "def vectorize_sequences(sequences, dimension=10000):\n",
    "    results = np.zeros((len(sequences), dimension))\n",
    "    for i, sequence in enumerate(sequences):\n",
    "        results[i, sequence] = 1.\n",
    "    return results\n",
    "\n",
    "x_train = vectorize_sequences(train_data)\n",
    "x_test = vectorize_sequences(test_data)\n",
    "\"\"\"\n",
    "IMDB and Reuter dataset converted words in whole dataset to word indices before dividing the dataset into training data and test data.\n",
    "Generally, we create word dictionary from training set then convert words in test set to word indices. This is because in real life we\n",
    "do not know what words will be in the sample, so if we put words in test data in the dictionary beforehand, we are evaluating our test \n",
    "set optimistically.\n",
    "\n",
    "There are two ways to convert label to vector. One is converting label list into integer tensor, and the other is using one-hot \n",
    "encoding. In here, we will use one-hot encoding.\n",
    "\"\"\"\n",
    "\n",
    "def to_one_hot(labels, dimension=46):\n",
    "    results = np.zeros((len(labels), dimension))\n",
    "    for i, label in enumerate(labels):\n",
    "        results[i, label] = 1.\n",
    "    return results\n",
    "\n",
    "one_hot_train_labels = to_one_hot(train_labels)\n",
    "one_hot_test_labels = to_one_hot(test_labels)\n",
    "\n",
    "\"\"\"\n",
    "As we have seen before in MNIST example, there exists a function that does this in keras\n",
    "\n",
    "from keras.utils.np_utils import to_categorical\n",
    "one_hot_train_labels = to_categorical(train_labels)\n",
    "one_hot_test_labels = to_categorical(test_labels)\n",
    "\n",
    "This topic classification problems seems similar with the previous example of movie review classification problem. Both classifies a\n",
    "short text. In here, we need to classify them to one of 46 topics rather than 2. This means that the number of output class increased\n",
    "from 2 to 46.\n",
    "\n",
    "If we stack Dense layer like before, each layer can only use information from output from the layer before it. If one layer omits some\n",
    "information needed in distribution problem in its output, there is no way for the next layer to restore it. Each layer has potential to\n",
    "become information bottleneck. We have used 16 dimension hidden layer, but it seems that 16 dimension is to restrictive to classify\n",
    "46 classes. Small layers like this can act as a information bottleneck that loses useful information. Therefore, we will use bigger \n",
    "layer. Let's use 64 hidden units.\n",
    "\"\"\"\n",
    "\n",
    "from keras import models\n",
    "from keras import layers\n",
    "\n",
    "model = models.Sequential()\n",
    "model.add(layers.Dense(64, activation='relu', input_shape=(10000, )))\n",
    "model.add(layers.Dense(64, activation='relu'))\n",
    "model.add(layers.Dense(46, activation='softmax'))\n",
    "\n",
    "#This part is same as the example before: uses rmsprop as optimizer, uses categorical crossentropy as loss function, and monitors acc.\n",
    "model.compile(optimizer='rmsprop', loss='categorical_crossentropy', metrics=['accuracy'])\n",
    "\n",
    "#We will seperate 1000 samples from test datat to use as validation set\n",
    "x_val = x_train[:1000]\n",
    "partial_x_train = x_train[1000:]\n",
    "\n",
    "y_val = one_hot_train_labels[:1000]\n",
    "partial_y_train = one_hot_train_labels[1000:]\n",
    "\n",
    "#Now we train the model with 20 epochs\n",
    "history = model.fit(partial_x_train, partial_y_train, epochs=20, batch_size=512, validation_data=(x_val, y_val))\n",
    "\n",
    "#Drawing loss and accuracy curves\n",
    "import matplotlib.pyplot as plt\n",
    "\n",
    "loss = history.history['loss']\n",
    "val_loss = history.history['val_loss']\n",
    "\n",
    "epochs = range(1, len(loss) + 1)\n",
    "\n",
    "plt.plot(epochs, loss, 'bo', label='Training loss')\n",
    "plt.plot(epochs, val_loss, 'b', label='Validation loss')\n",
    "plt.title('Training and validation loss')\n",
    "plt.xlabel('Epochs')\n",
    "plt.ylabel('Loss')\n",
    "plt.legend()\n",
    "\n",
    "plt.show()\n",
    "\n",
    "plt.clf()\n",
    "\n",
    "acc = history.history['accuracy']\n",
    "val_acc = history.history['val_accuracy']\n",
    "\n",
    "plt.plot(epochs, acc, 'bo', label='Training acc')\n",
    "plt.plot(epochs, val_acc, 'b', label='Validation acc')\n",
    "plt.title('Training and validation accuracy')\n",
    "plt.xlabel('Epochs')\n",
    "plt.ylabel('Accuracy')\n",
    "plt.legend()\n",
    "\n",
    "plt.show()"
   ]
  },
  {
   "cell_type": "code",
   "execution_count": 3,
   "metadata": {},
   "outputs": [
    {
     "name": "stdout",
     "output_type": "stream",
     "text": [
      "Epoch 1/9\n",
      "16/16 [==============================] - 1s 81ms/step - loss: 2.6107 - accuracy: 0.5106 - val_loss: 1.7119 - val_accuracy: 0.6400\n",
      "Epoch 2/9\n",
      "16/16 [==============================] - 1s 39ms/step - loss: 1.3900 - accuracy: 0.7017 - val_loss: 1.2946 - val_accuracy: 0.7240\n",
      "Epoch 3/9\n",
      "16/16 [==============================] - 1s 46ms/step - loss: 1.0314 - accuracy: 0.7791 - val_loss: 1.1229 - val_accuracy: 0.7510\n",
      "Epoch 4/9\n",
      "16/16 [==============================] - 1s 43ms/step - loss: 0.8091 - accuracy: 0.8260 - val_loss: 1.0272 - val_accuracy: 0.7870\n",
      "Epoch 5/9\n",
      "16/16 [==============================] - 1s 41ms/step - loss: 0.6441 - accuracy: 0.8654 - val_loss: 0.9494 - val_accuracy: 0.7970\n",
      "Epoch 6/9\n",
      "16/16 [==============================] - 1s 41ms/step - loss: 0.5109 - accuracy: 0.8950 - val_loss: 0.9147 - val_accuracy: 0.8030\n",
      "Epoch 7/9\n",
      "16/16 [==============================] - 1s 46ms/step - loss: 0.4135 - accuracy: 0.9158 - val_loss: 0.8960 - val_accuracy: 0.8250\n",
      "Epoch 8/9\n",
      "16/16 [==============================] - 1s 45ms/step - loss: 0.3330 - accuracy: 0.9300 - val_loss: 0.8689 - val_accuracy: 0.8210\n",
      "Epoch 9/9\n",
      "16/16 [==============================] - 1s 40ms/step - loss: 0.2758 - accuracy: 0.9399 - val_loss: 0.9123 - val_accuracy: 0.8040\n",
      "71/71 [==============================] - 0s 4ms/step - loss: 0.9733 - accuracy: 0.7854\n",
      "[0.9732593297958374, 0.7853962779045105]\n"
     ]
    }
   ],
   "source": [
    "\"\"\"\n",
    "This model starts overfitting after 9th epoch. We will train new model with 9 epochs and evaluate it in test set.\n",
    "\"\"\"\n",
    "\n",
    "model = models.Sequential()\n",
    "model.add(layers.Dense(64, activation='relu', input_shape=(10000, )))\n",
    "model.add(layers.Dense(64, activation='relu'))\n",
    "model.add(layers.Dense(46, activation='softmax'))\n",
    "\n",
    "model.compile(optimizer='rmsprop', loss='categorical_crossentropy', metrics=['accuracy'])\n",
    "model.fit(partial_x_train, partial_y_train, epochs=9, batch_size=512, validation_data=(x_val, y_val))\n",
    "results = model.evaluate(x_test, one_hot_test_labels)\n",
    "print(results)"
   ]
  },
  {
   "cell_type": "code",
   "execution_count": 4,
   "metadata": {},
   "outputs": [
    {
     "name": "stdout",
     "output_type": "stream",
     "text": [
      "0.18477292965271594\n"
     ]
    }
   ],
   "source": [
    "\"\"\"\n",
    "We have achieved approximately 79% accuracy. In this problem, if we just classify them randomly we get about 18% accuracy. It seems that\n",
    "our result is better than just random\n",
    "\"\"\"\n",
    "\n",
    "import copy\n",
    "test_labels_copy = copy.copy(test_labels)\n",
    "np.random.shuffle(test_labels_copy)\n",
    "hits_array = np.array(test_labels) == np.array(test_labels_copy)\n",
    "print(float(np.sum(hits_array)) / len(test_labels))"
   ]
  },
  {
   "cell_type": "code",
   "execution_count": 5,
   "metadata": {},
   "outputs": [
    {
     "name": "stdout",
     "output_type": "stream",
     "text": [
      "(46,)\n",
      "1.0\n",
      "3\n"
     ]
    }
   ],
   "source": [
    "\"\"\"\n",
    "predict method of model object returns probability distribution about 46 topics. We will predict topics for all of the test data\n",
    "\"\"\"\n",
    "\n",
    "predictions = model.predict(x_test)\n",
    "\n",
    "#Each of predictions[i] are vectors of length 46\n",
    "print(predictions[0].shape)\n",
    "\n",
    "#This vector above's sum of elements is 1\n",
    "print(np.sum(predictions[0]))\n",
    "\n",
    "\n",
    "#Class corresponding to index with the highest value, class with highest probability, becomes the prediction class.\n",
    "print(np.argmax(predictions[0]))"
   ]
  },
  {
   "cell_type": "code",
   "execution_count": 9,
   "metadata": {},
   "outputs": [
    {
     "name": "stdout",
     "output_type": "stream",
     "text": [
      "Epoch 1/20\n",
      "63/63 [==============================] - 2s 32ms/step - loss: 3.5670 - accuracy: 0.1989 - val_loss: 3.3144 - val_accuracy: 0.3130\n",
      "Epoch 2/20\n",
      "63/63 [==============================] - 1s 17ms/step - loss: 2.9382 - accuracy: 0.3876 - val_loss: 2.7148 - val_accuracy: 0.3160\n",
      "Epoch 3/20\n",
      "63/63 [==============================] - 1s 17ms/step - loss: 2.3845 - accuracy: 0.3314 - val_loss: 2.3392 - val_accuracy: 0.3240\n",
      "Epoch 4/20\n",
      "63/63 [==============================] - 1s 17ms/step - loss: 1.9066 - accuracy: 0.3807 - val_loss: 1.7760 - val_accuracy: 0.6540\n",
      "Epoch 5/20\n",
      "63/63 [==============================] - 1s 17ms/step - loss: 1.2825 - accuracy: 0.7147 - val_loss: 1.3826 - val_accuracy: 0.6830\n",
      "Epoch 6/20\n",
      "63/63 [==============================] - 1s 17ms/step - loss: 1.0554 - accuracy: 0.7394 - val_loss: 1.3580 - val_accuracy: 0.6910\n",
      "Epoch 7/20\n",
      "63/63 [==============================] - 1s 19ms/step - loss: 0.9574 - accuracy: 0.7533 - val_loss: 1.3701 - val_accuracy: 0.6910\n",
      "Epoch 8/20\n",
      "63/63 [==============================] - 1s 18ms/step - loss: 0.8805 - accuracy: 0.7685 - val_loss: 1.3481 - val_accuracy: 0.6970\n",
      "Epoch 9/20\n",
      "63/63 [==============================] - 1s 17ms/step - loss: 0.8193 - accuracy: 0.7818 - val_loss: 1.3667 - val_accuracy: 0.7110\n",
      "Epoch 10/20\n",
      "63/63 [==============================] - 1s 17ms/step - loss: 0.7625 - accuracy: 0.7964 - val_loss: 1.3949 - val_accuracy: 0.7020\n",
      "Epoch 11/20\n",
      "63/63 [==============================] - 1s 22ms/step - loss: 0.7180 - accuracy: 0.8117 - val_loss: 1.4071 - val_accuracy: 0.7100\n",
      "Epoch 12/20\n",
      "63/63 [==============================] - 1s 22ms/step - loss: 0.6751 - accuracy: 0.8282 - val_loss: 1.4640 - val_accuracy: 0.7080 0s - loss: 0.6787 - accuracy: \n",
      "Epoch 13/20\n",
      "63/63 [==============================] - 1s 22ms/step - loss: 0.6378 - accuracy: 0.8344 - val_loss: 1.4828 - val_accuracy: 0.7070\n",
      "Epoch 14/20\n",
      "63/63 [==============================] - 1s 22ms/step - loss: 0.6060 - accuracy: 0.8430 - val_loss: 1.5187 - val_accuracy: 0.7160\n",
      "Epoch 15/20\n",
      "63/63 [==============================] - 1s 22ms/step - loss: 0.5760 - accuracy: 0.8579 - val_loss: 1.5680 - val_accuracy: 0.7210\n",
      "Epoch 16/20\n",
      "63/63 [==============================] - 1s 22ms/step - loss: 0.5489 - accuracy: 0.8617 - val_loss: 1.6048 - val_accuracy: 0.7240\n",
      "Epoch 17/20\n",
      "63/63 [==============================] - 1s 22ms/step - loss: 0.5258 - accuracy: 0.8666 - val_loss: 1.6604 - val_accuracy: 0.7250\n",
      "Epoch 18/20\n",
      "63/63 [==============================] - 1s 22ms/step - loss: 0.5053 - accuracy: 0.8671 - val_loss: 1.7173 - val_accuracy: 0.7180\n",
      "Epoch 19/20\n",
      "63/63 [==============================] - 1s 22ms/step - loss: 0.4866 - accuracy: 0.8715 - val_loss: 1.7487 - val_accuracy: 0.7220\n",
      "Epoch 20/20\n",
      "63/63 [==============================] - 1s 21ms/step - loss: 0.4685 - accuracy: 0.8742 - val_loss: 1.8024 - val_accuracy: 0.7210\n"
     ]
    },
    {
     "data": {
      "image/png": "[encoded data removed]",
      "text/plain": [
       "<Figure size 432x288 with 1 Axes>"
      ]
     },
     "metadata": {
      "needs_background": "light"
     },
     "output_type": "display_data"
    },
    {
     "data": {
      "image/png": "[encoded data removed]",
      "text/plain": [
       "<Figure size 432x288 with 1 Axes>"
      ]
     },
     "metadata": {
      "needs_background": "light"
     },
     "output_type": "display_data"
    },
    {
     "name": "stdout",
     "output_type": "stream",
     "text": [
      "Epoch 1/7\n",
      "63/63 [==============================] - 1s 22ms/step - loss: 3.2424 - accuracy: 0.1967 - val_loss: 2.6545 - val_accuracy: 0.4390\n",
      "Epoch 2/7\n",
      "63/63 [==============================] - 1s 17ms/step - loss: 2.0416 - accuracy: 0.5530 - val_loss: 1.6742 - val_accuracy: 0.6680\n",
      "Epoch 3/7\n",
      "63/63 [==============================] - 1s 17ms/step - loss: 1.3451 - accuracy: 0.7038 - val_loss: 1.3856 - val_accuracy: 0.6920\n",
      "Epoch 4/7\n",
      "63/63 [==============================] - 1s 17ms/step - loss: 1.1355 - accuracy: 0.7201 - val_loss: 1.3333 - val_accuracy: 0.7010\n",
      "Epoch 5/7\n",
      "63/63 [==============================] - 1s 17ms/step - loss: 1.0200 - accuracy: 0.7359 - val_loss: 1.3211 - val_accuracy: 0.7020\n",
      "Epoch 6/7\n",
      "63/63 [==============================] - 1s 17ms/step - loss: 0.9325 - accuracy: 0.7576 - val_loss: 1.3068 - val_accuracy: 0.7110\n",
      "Epoch 7/7\n",
      "63/63 [==============================] - 1s 17ms/step - loss: 0.8560 - accuracy: 0.7739 - val_loss: 1.3161 - val_accuracy: 0.7030\n",
      "71/71 [==============================] - 0s 3ms/step - loss: 1.3112 - accuracy: 0.6977\n",
      "[1.3111510276794434, 0.6976847648620605]\n"
     ]
    }
   ],
   "source": [
    "\"\"\"\n",
    "The other way to encode the labels is to convert it to integer tensor\n",
    "\n",
    "y_train = np.array(train_labels)\n",
    "y_test = np.array(test_labels)\n",
    "\n",
    "To use this method, we can just change our loss function. categorical_crossentropy asserts that the labels are categorically encoded.\n",
    "We need to use sparse_categorical_crossentropy when we are using integer labels.\n",
    "\n",
    "model.compile(optimizer='rmsprop', loss='sparse_categorical_crossentropy', metrics=['accuracy'])\n",
    "\n",
    "This loss function is basically same as categorical_crossentropy; they just have difference in their interface.\n",
    "\"\"\"\n",
    "\n",
    "\"\"\"\n",
    "As we have mentioned before, since the output has 46 dimensions, hidden units in the hidden layer shouldn't be less than 46. We will\n",
    "check what would happen if we have hidden layer that has number of hidden units way smaller than 46.\n",
    "\"\"\"\n",
    "\n",
    "model = models.Sequential()\n",
    "model.add(layers.Dense(64, activation='relu', input_shape=(10000, )))\n",
    "model.add(layers.Dense(4, activation='relu'))\n",
    "model.add(layers.Dense(46, activation='softmax'))\n",
    "\n",
    "model.compile(optimizer='rmsprop', loss='categorical_crossentropy', metrics=['accuracy'])\n",
    "history = model.fit(partial_x_train, partial_y_train, epochs=20, batch_size=128, validation_data=(x_val, y_val))\n",
    "\n",
    "plt.clf()\n",
    "\n",
    "loss = history.history['loss']\n",
    "val_loss = history.history['val_loss']\n",
    "\n",
    "epochs = range(1, len(loss) + 1)\n",
    "\n",
    "plt.plot(epochs, loss, 'bo', label='Training loss')\n",
    "plt.plot(epochs, val_loss, 'b', label='Validation loss')\n",
    "plt.title('Training and validation loss')\n",
    "plt.xlabel('Epochs')\n",
    "plt.ylabel('Loss')\n",
    "plt.legend()\n",
    "\n",
    "plt.show()\n",
    "\n",
    "plt.clf()\n",
    "\n",
    "acc = history.history['accuracy']\n",
    "val_acc = history.history['val_accuracy']\n",
    "\n",
    "plt.plot(epochs, acc, 'bo', label='Training acc')\n",
    "plt.plot(epochs, val_acc, 'b', label='Validation acc')\n",
    "plt.title('Training and validation accuracy')\n",
    "plt.xlabel('Epochs')\n",
    "plt.ylabel('Accuracy')\n",
    "plt.legend()\n",
    "\n",
    "plt.show()\n",
    "\n",
    "model = models.Sequential()\n",
    "model.add(layers.Dense(64, activation='relu', input_shape=(10000, )))\n",
    "model.add(layers.Dense(4, activation='relu'))\n",
    "model.add(layers.Dense(46, activation='softmax'))\n",
    "\n",
    "model.compile(optimizer='rmsprop', loss='categorical_crossentropy', metrics=['accuracy'])\n",
    "model.fit(partial_x_train, partial_y_train, epochs=7, batch_size=128, validation_data=(x_val, y_val))\n",
    "results = model.evaluate(x_test, one_hot_test_labels)\n",
    "print(results)"
   ]
  },
  {
   "cell_type": "code",
   "execution_count": null,
   "metadata": {},
   "outputs": [],
   "source": []
  }
 ],
 "metadata": {
  "kernelspec": {
   "display_name": "Python 3",
   "language": "python",
   "name": "python3"
  },
  "language_info": {
   "codemirror_mode": {
    "name": "ipython",
    "version": 3
   },
   "file_extension": ".py",
   "mimetype": "text/x-python",
   "name": "python",
   "nbconvert_exporter": "python",
   "pygments_lexer": "ipython3",
   "version": "3.8.5"
  }
 },
 "nbformat": 4,
 "nbformat_minor": 4
}
