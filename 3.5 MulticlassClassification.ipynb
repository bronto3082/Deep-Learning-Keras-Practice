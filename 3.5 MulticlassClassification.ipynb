{
 "cells": [
  {
   "cell_type": "code",
   "execution_count": 1,
   "metadata": {},
   "outputs": [
    {
     "name": "stdout",
     "output_type": "stream",
     "text": [
      "[1, 2, 2, 8, 43, 10, 447, 5, 25, 207, 270, 5, 3095, 111, 16, 369, 186, 90, 67, 7, 89, 5, 19, 102, 6, 19, 124, 15, 90, 67, 84, 22, 482, 26, 7, 48, 4, 49, 8, 864, 39, 209, 154, 6, 151, 6, 83, 11, 15, 22, 155, 11, 15, 7, 48, 9, 4579, 1005, 504, 6, 258, 6, 272, 11, 15, 22, 134, 44, 11, 15, 16, 8, 197, 1245, 90, 67, 52, 29, 209, 30, 32, 132, 6, 109, 15, 17, 12]\n"
     ]
    }
   ],
   "source": [
    "\"\"\"\n",
    "We will create a neural network that classifies Reuter news into 46 mutually exclusive topics. Since there are many classes to match\n",
    "data point to, this problem is multiclass classification. Specifically, each data point matches to exactly one topic, so it is \n",
    "single-label, multiclass classification problem. If a news could be matched to multiple topic, it would become multi-label, multiclass\n",
    "classification problem. In here, we will use Reuter dataset, which is a set of short news articles and topics. This dataset is included\n",
    "in keras.\n",
    "\"\"\"\n",
    "from keras.datasets import reuters\n",
    "\n",
    "(train_data, train_labels), (test_data, test_labels) = reuters.load_data(num_words=10000)\n",
    "\n",
    "#Like IMDB review, each sample is a list of integers (word indices)\n",
    "print(train_data[0])\n",
    "\n",
    "#Decoding reuter dataset to text\n",
    "word_index = reuters.get_word_index()\n",
    "reverse_word_index = dict([(value, key) for (key, value) in word_index.items()])\n",
    "decoded_newswire = ' '.join([reverse_word_index.get(i - 3, '?') for i in train_data[0]])"
   ]
  },
  {
   "cell_type": "code",
   "execution_count": 2,
   "metadata": {},
   "outputs": [
    {
     "name": "stdout",
     "output_type": "stream",
     "text": [
      "3\n",
      "Epoch 1/20\n",
      "16/16 [==============================] - 1s 75ms/step - loss: 2.6193 - accuracy: 0.4818 - val_loss: 1.7145 - val_accuracy: 0.6350\n",
      "Epoch 2/20\n",
      "16/16 [==============================] - 1s 35ms/step - loss: 1.4104 - accuracy: 0.7092 - val_loss: 1.2957 - val_accuracy: 0.7110\n",
      "Epoch 3/20\n",
      "16/16 [==============================] - 1s 36ms/step - loss: 1.0422 - accuracy: 0.7796 - val_loss: 1.1280 - val_accuracy: 0.7690\n",
      "Epoch 4/20\n",
      "16/16 [==============================] - 1s 36ms/step - loss: 0.8152 - accuracy: 0.8297 - val_loss: 1.0309 - val_accuracy: 0.7880\n",
      "Epoch 5/20\n",
      "16/16 [==============================] - 1s 36ms/step - loss: 0.6490 - accuracy: 0.8662 - val_loss: 0.9711 - val_accuracy: 0.7910\n",
      "Epoch 6/20\n",
      "16/16 [==============================] - 1s 36ms/step - loss: 0.5195 - accuracy: 0.8939 - val_loss: 0.9271 - val_accuracy: 0.8190\n",
      "Epoch 7/20\n",
      "16/16 [==============================] - 1s 36ms/step - loss: 0.4146 - accuracy: 0.9156 - val_loss: 0.8939 - val_accuracy: 0.8150\n",
      "Epoch 8/20\n",
      "16/16 [==============================] - 1s 36ms/step - loss: 0.3414 - accuracy: 0.9296 - val_loss: 0.8854 - val_accuracy: 0.8180\n",
      "Epoch 9/20\n",
      "16/16 [==============================] - 1s 36ms/step - loss: 0.2795 - accuracy: 0.9392 - val_loss: 0.8937 - val_accuracy: 0.8200\n",
      "Epoch 10/20\n",
      "16/16 [==============================] - 1s 36ms/step - loss: 0.2383 - accuracy: 0.9470 - val_loss: 0.8972 - val_accuracy: 0.8260\n",
      "Epoch 11/20\n",
      "16/16 [==============================] - 1s 36ms/step - loss: 0.2038 - accuracy: 0.9490 - val_loss: 0.9910 - val_accuracy: 0.8070\n",
      "Epoch 12/20\n",
      "16/16 [==============================] - 1s 36ms/step - loss: 0.1828 - accuracy: 0.9509 - val_loss: 0.9264 - val_accuracy: 0.8200\n",
      "Epoch 13/20\n",
      "16/16 [==============================] - 1s 37ms/step - loss: 0.1614 - accuracy: 0.9531 - val_loss: 0.9448 - val_accuracy: 0.8200\n",
      "Epoch 14/20\n",
      "16/16 [==============================] - 1s 36ms/step - loss: 0.1502 - accuracy: 0.9546 - val_loss: 1.0067 - val_accuracy: 0.8000\n",
      "Epoch 15/20\n",
      "16/16 [==============================] - 1s 36ms/step - loss: 0.1420 - accuracy: 0.9555 - val_loss: 0.9845 - val_accuracy: 0.8180\n",
      "Epoch 16/20\n",
      "16/16 [==============================] - 1s 36ms/step - loss: 0.1322 - accuracy: 0.9580 - val_loss: 1.0558 - val_accuracy: 0.7970\n",
      "Epoch 17/20\n",
      "16/16 [==============================] - 1s 36ms/step - loss: 0.1256 - accuracy: 0.9567 - val_loss: 1.0316 - val_accuracy: 0.8070\n",
      "Epoch 18/20\n",
      "16/16 [==============================] - 1s 36ms/step - loss: 0.1183 - accuracy: 0.9572 - val_loss: 1.0517 - val_accuracy: 0.8110\n",
      "Epoch 19/20\n",
      "16/16 [==============================] - 1s 36ms/step - loss: 0.1204 - accuracy: 0.9575 - val_loss: 1.0703 - val_accuracy: 0.8120\n",
      "Epoch 20/20\n",
      "16/16 [==============================] - 1s 34ms/step - loss: 0.1085 - accuracy: 0.9575 - val_loss: 1.0701 - val_accuracy: 0.8100\n"
     ]
    },
    {
     "data": {
      "image/png": "[encoded data removed]",
      "text/plain": [
       "<Figure size 432x288 with 1 Axes>"
      ]
     },
     "metadata": {
      "needs_background": "light"
     },
     "output_type": "display_data"
    },
    {
     "data": {
      "image/png": "[encoded data removed]",
      "text/plain": [
       "<Figure size 432x288 with 1 Axes>"
      ]
     },
     "metadata": {
      "needs_background": "light"
     },
     "output_type": "display_data"
    }
   ],
   "source": [
    "#Labels are topic's indices, integer ranged from 0 to 45\n",
    "print(train_labels[10])\n",
    "\n",
    "#Convert data into vector\n",
    "import numpy as np\n",
    "\n",
    "def vectorize_sequences(sequences, dimension=10000):\n",
    "    results = np.zeros((len(sequences), dimension))\n",
    "    for i, sequence in enumerate(sequences):\n",
    "        results[i, sequence] = 1.\n",
    "    return results\n",
    "\n",
    "x_train = vectorize_sequences(train_data)\n",
    "x_test = vectorize_sequences(test_data)\n",
    "\"\"\"\n",
    "IMDB and Reuter dataset converted words in whole dataset to word indices before dividing the dataset into training data and test data.\n",
    "Generally, we create word dictionary from training set then convert words in test set to word indices. This is because in real life we\n",
    "do not know what words will be in the sample, so if we put words in test data in the dictionary beforehand, we are evaluating our test \n",
    "set optimistically.\n",
    "\n",
    "There are two ways to convert label to vector. One is converting label list into integer tensor, and the other is using one-hot \n",
    "encoding. In here, we will use one-hot encoding.\n",
    "\"\"\"\n",
    "\n",
    "def to_one_hot(labels, dimension=46):\n",
    "    results = np.zeros((len(labels), dimension))\n",
    "    for i, label in enumerate(labels):\n",
    "        results[i, label] = 1.\n",
    "    return results\n",
    "\n",
    "one_hot_train_labels = to_one_hot(train_labels)\n",
    "one_hot_test_labels = to_one_hot(test_labels)\n",
    "\n",
    "\"\"\"\n",
    "As we have seen before in MNIST example, there exists a function that does this in keras\n",
    "\n",
    "from keras.utils.np_utils import to_categorical\n",
    "one_hot_train_labels = to_categorical(train_labels)\n",
    "one_hot_test_labels = to_categorical(test_labels)\n",
    "\n",
    "This topic classification problems seems similar with the previous example of movie review classification problem. Both classifies a\n",
    "short text. In here, we need to classify them to one of 46 topics rather than 2. This means that the number of output class increased\n",
    "from 2 to 46.\n",
    "\n",
    "If we stack Dense layer like before, each layer can only use information from output from the layer before it. If one layer omits some\n",
    "information needed in distribution problem in its output, there is no way for the next layer to restore it. Each layer has potential to\n",
    "become information bottleneck. We have used 16 dimension hidden layer, but it seems that 16 dimension is to restrictive to classify\n",
    "46 classes. Small layers like this can act as a information bottleneck that loses useful information. Therefore, we will use bigger \n",
    "layer. Let's use 64 hidden units.\n",
    "\"\"\"\n",
    "\n",
    "from keras import models\n",
    "from keras import layers\n",
    "\n",
    "model = models.Sequential()\n",
    "model.add(layers.Dense(64, activation='relu', input_shape=(10000, )))\n",
    "model.add(layers.Dense(64, activation='relu'))\n",
    "model.add(layers.Dense(46, activation='softmax'))\n",
    "\n",
    "#This part is same as the example before: uses rmsprop as optimizer, uses categorical crossentropy as loss function, and monitors acc.\n",
    "model.compile(optimizer='rmsprop', loss='categorical_crossentropy', metrics=['accuracy'])\n",
    "\n",
    "#We will seperate 1000 samples from test datat to use as validation set\n",
    "x_val = x_train[:1000]\n",
    "partial_x_train = x_train[1000:]\n",
    "\n",
    "y_val = one_hot_train_labels[:1000]\n",
    "partial_y_train = one_hot_train_labels[1000:]\n",
    "\n",
    "#Now we train the model with 20 epochs\n",
    "history = model.fit(partial_x_train, partial_y_train, epochs=20, batch_size=512, validation_data=(x_val, y_val))\n",
    "\n",
    "#Drawing loss and accuracy curves\n",
    "import matplotlib.pyplot as plt\n",
    "\n",
    "loss = history.history['loss']\n",
    "val_loss = history.history['val_loss']\n",
    "\n",
    "epochs = range(1, len(loss) + 1)\n",
    "\n",
    "plt.plot(epochs, loss, 'bo', label='Training loss')\n",
    "plt.plot(epochs, val_loss, 'b', label='Validation loss')\n",
    "plt.title('Training and validation loss')\n",
    "plt.xlabel('Epochs')\n",
    "plt.ylabel('Loss')\n",
    "plt.legend()\n",
    "\n",
    "plt.show()\n",
    "\n",
    "plt.clf()\n",
    "\n",
    "acc = history.history['accuracy']\n",
    "val_acc = history.history['val_accuracy']\n",
    "\n",
    "plt.plot(epochs, acc, 'bo', label='Training acc')\n",
    "plt.plot(epochs, val_acc, 'b', label='Validation acc')\n",
    "plt.title('Training and validation accuracy')\n",
    "plt.xlabel('Epochs')\n",
    "plt.ylabel('Accuracy')\n",
    "plt.legend()\n",
    "\n",
    "plt.show()"
   ]
  },
  {
   "cell_type": "code",
   "execution_count": 3,
   "metadata": {},
   "outputs": [
    {
     "name": "stdout",
     "output_type": "stream",
     "text": [
      "Epoch 1/9\n",
      "16/16 [==============================] - 1s 57ms/step - loss: 2.6514 - accuracy: 0.4283 - val_loss: 1.7135 - val_accuracy: 0.6490\n",
      "Epoch 2/9\n",
      "16/16 [==============================] - 1s 40ms/step - loss: 1.3910 - accuracy: 0.7122 - val_loss: 1.2814 - val_accuracy: 0.7070\n",
      "Epoch 3/9\n",
      "16/16 [==============================] - 1s 56ms/step - loss: 1.0221 - accuracy: 0.7791 - val_loss: 1.1137 - val_accuracy: 0.7630\n",
      "Epoch 4/9\n",
      "16/16 [==============================] - 1s 43ms/step - loss: 0.7999 - accuracy: 0.8321 - val_loss: 1.0147 - val_accuracy: 0.7850\n",
      "Epoch 5/9\n",
      "16/16 [==============================] - 1s 36ms/step - loss: 0.6343 - accuracy: 0.8680 - val_loss: 0.9413 - val_accuracy: 0.8040\n",
      "Epoch 6/9\n",
      "16/16 [==============================] - 1s 36ms/step - loss: 0.5131 - accuracy: 0.8953 - val_loss: 0.9265 - val_accuracy: 0.7970\n",
      "Epoch 7/9\n",
      "16/16 [==============================] - 1s 37ms/step - loss: 0.4103 - accuracy: 0.9141 - val_loss: 0.8950 - val_accuracy: 0.8150\n",
      "Epoch 8/9\n",
      "16/16 [==============================] - 1s 55ms/step - loss: 0.3372 - accuracy: 0.9272 - val_loss: 0.8811 - val_accuracy: 0.8130\n",
      "Epoch 9/9\n",
      "16/16 [==============================] - 1s 33ms/step - loss: 0.2810 - accuracy: 0.9351 - val_loss: 0.8998 - val_accuracy: 0.8120\n",
      "71/71 [==============================] - 0s 3ms/step - loss: 0.9907 - accuracy: 0.7903\n",
      "[0.9907200336456299, 0.7902938723564148]\n"
     ]
    }
   ],
   "source": [
    "\"\"\"\n",
    "This model starts overfitting after 9th epoch. We will train new model with 9 epochs and evaluate it in test set.\n",
    "\"\"\"\n",
    "\n",
    "model = models.Sequential()\n",
    "model.add(layers.Dense(64, activation='relu', input_shape=(10000, )))\n",
    "model.add(layers.Dense(64, activation='relu'))\n",
    "model.add(layers.Dense(46, activation='softmax'))\n",
    "\n",
    "model.compile(optimizer='rmsprop', loss='categorical_crossentropy', metrics=['accuracy'])\n",
    "model.fit(partial_x_train, partial_y_train, epochs=9, batch_size=512, validation_data=(x_val, y_val))\n",
    "results = model.evaluate(x_test, one_hot_test_labels)\n",
    "print(results)"
   ]
  },
  {
   "cell_type": "code",
   "execution_count": 4,
   "metadata": {},
   "outputs": [
    {
     "name": "stdout",
     "output_type": "stream",
     "text": [
      "0.1918967052537845\n"
     ]
    }
   ],
   "source": [
    "\"\"\"\n",
    "We have achieved approximately 79% accuracy. In this problem, if we just classify them randomly we get about 18% accuracy. It seems that\n",
    "our result is better than just random\n",
    "\"\"\"\n",
    "\n",
    "import copy\n",
    "test_labels_copy = copy.copy(test_labels)\n",
    "np.random.shuffle(test_labels_copy)\n",
    "hits_array = np.array(test_labels) == np.array(test_labels_copy)\n",
    "print(float(np.sum(hits_array)) / len(test_labels))"
   ]
  },
  {
   "cell_type": "code",
   "execution_count": 5,
   "metadata": {},
   "outputs": [
    {
     "name": "stdout",
     "output_type": "stream",
     "text": [
      "(46,)\n",
      "1.0000002\n",
      "3\n"
     ]
    }
   ],
   "source": [
    "\"\"\"\n",
    "predict method of model object returns probability distribution about 46 topics. We will predict topics for all of the test data\n",
    "\"\"\"\n",
    "\n",
    "predictions = model.predict(x_test)\n",
    "\n",
    "#Each of predictions[i] are vectors of length 46\n",
    "print(predictions[0].shape)\n",
    "\n",
    "#This vector above's sum of elements is 1\n",
    "print(np.sum(predictions[0]))\n",
    "\n",
    "\n",
    "#Class corresponding to index with the highest value, class with highest probability, becomes the prediction class.\n",
    "print(np.argmax(predictions[0]))"
   ]
  },
  {
   "cell_type": "code",
   "execution_count": 7,
   "metadata": {},
   "outputs": [
    {
     "name": "stdout",
     "output_type": "stream",
     "text": [
      "Epoch 1/20\n",
      "63/63 [==============================] - 2s 32ms/step - loss: 3.2422 - accuracy: 0.1794 - val_loss: 2.6948 - val_accuracy: 0.2730\n",
      "Epoch 2/20\n",
      "63/63 [==============================] - 1s 17ms/step - loss: 2.2351 - accuracy: 0.3178 - val_loss: 1.8585 - val_accuracy: 0.6110\n",
      "Epoch 3/20\n",
      "63/63 [==============================] - 1s 17ms/step - loss: 1.4348 - accuracy: 0.6745 - val_loss: 1.4016 - val_accuracy: 0.6840\n",
      "Epoch 4/20\n",
      "63/63 [==============================] - 1s 17ms/step - loss: 1.1540 - accuracy: 0.7191 - val_loss: 1.3400 - val_accuracy: 0.6930\n",
      "Epoch 5/20\n",
      "63/63 [==============================] - 1s 22ms/step - loss: 1.0319 - accuracy: 0.7378 - val_loss: 1.3229 - val_accuracy: 0.6980\n",
      "Epoch 6/20\n",
      "63/63 [==============================] - 1s 22ms/step - loss: 0.9452 - accuracy: 0.7519 - val_loss: 1.3200 - val_accuracy: 0.6880\n",
      "Epoch 7/20\n",
      "63/63 [==============================] - 1s 21ms/step - loss: 0.8751 - accuracy: 0.7616 - val_loss: 1.3274 - val_accuracy: 0.6990\n",
      "Epoch 8/20\n",
      "63/63 [==============================] - 1s 17ms/step - loss: 0.8150 - accuracy: 0.7734 - val_loss: 1.3099 - val_accuracy: 0.6990\n",
      "Epoch 9/20\n",
      "63/63 [==============================] - 1s 17ms/step - loss: 0.7575 - accuracy: 0.7813 - val_loss: 1.3897 - val_accuracy: 0.6870\n",
      "Epoch 10/20\n",
      "63/63 [==============================] - 1s 17ms/step - loss: 0.7084 - accuracy: 0.7934 - val_loss: 1.3872 - val_accuracy: 0.6970\n",
      "Epoch 11/20\n",
      "63/63 [==============================] - 1s 17ms/step - loss: 0.6653 - accuracy: 0.8117 - val_loss: 1.4157 - val_accuracy: 0.6970\n",
      "Epoch 12/20\n",
      "63/63 [==============================] - 1s 17ms/step - loss: 0.6201 - accuracy: 0.8240 - val_loss: 1.4603 - val_accuracy: 0.7060\n",
      "Epoch 13/20\n",
      "63/63 [==============================] - 1s 17ms/step - loss: 0.5864 - accuracy: 0.8359 - val_loss: 1.5017 - val_accuracy: 0.7020\n",
      "Epoch 14/20\n",
      "63/63 [==============================] - 1s 17ms/step - loss: 0.5516 - accuracy: 0.8464 - val_loss: 1.5426 - val_accuracy: 0.7060\n",
      "Epoch 15/20\n",
      "63/63 [==============================] - 1s 17ms/step - loss: 0.5235 - accuracy: 0.8545 - val_loss: 1.6077 - val_accuracy: 0.7030\n",
      "Epoch 16/20\n",
      "63/63 [==============================] - 1s 17ms/step - loss: 0.4993 - accuracy: 0.8617 - val_loss: 1.7112 - val_accuracy: 0.6980\n",
      "Epoch 17/20\n",
      "63/63 [==============================] - 1s 17ms/step - loss: 0.4753 - accuracy: 0.8687 - val_loss: 1.7544 - val_accuracy: 0.7040\n",
      "Epoch 18/20\n",
      "63/63 [==============================] - 1s 17ms/step - loss: 0.4558 - accuracy: 0.8746 - val_loss: 1.7697 - val_accuracy: 0.6990\n",
      "Epoch 19/20\n",
      "63/63 [==============================] - 1s 17ms/step - loss: 0.4362 - accuracy: 0.8789 - val_loss: 1.8393 - val_accuracy: 0.6990\n",
      "Epoch 20/20\n",
      "63/63 [==============================] - 1s 17ms/step - loss: 0.4207 - accuracy: 0.8815 - val_loss: 1.8915 - val_accuracy: 0.7060\n",
      "71/71 [==============================] - 0s 3ms/step - loss: 2.1566 - accuracy: 0.6759\n",
      "[2.156606912612915, 0.6758682131767273]\n"
     ]
    },
    {
     "data": {
      "image/png": "[encoded data removed]",
      "text/plain": [
       "<Figure size 432x288 with 1 Axes>"
      ]
     },
     "metadata": {
      "needs_background": "light"
     },
     "output_type": "display_data"
    },
    {
     "data": {
      "image/png": "[encoded data removed]",
      "text/plain": [
       "<Figure size 432x288 with 1 Axes>"
      ]
     },
     "metadata": {
      "needs_background": "light"
     },
     "output_type": "display_data"
    },
    {
     "name": "stdout",
     "output_type": "stream",
     "text": [
      "Epoch 1/7\n",
      "63/63 [==============================] - 1s 22ms/step - loss: 3.0573 - accuracy: 0.2402 - val_loss: 2.6404 - val_accuracy: 0.2850\n",
      "Epoch 2/7\n",
      "63/63 [==============================] - 1s 17ms/step - loss: 2.1563 - accuracy: 0.4793 - val_loss: 1.8319 - val_accuracy: 0.6170\n",
      "Epoch 3/7\n",
      "63/63 [==============================] - 1s 17ms/step - loss: 1.4268 - accuracy: 0.6657 - val_loss: 1.5581 - val_accuracy: 0.6420\n",
      "Epoch 4/7\n",
      "63/63 [==============================] - 1s 17ms/step - loss: 1.1896 - accuracy: 0.7154 - val_loss: 1.4536 - val_accuracy: 0.6770\n",
      "Epoch 5/7\n",
      "63/63 [==============================] - 1s 17ms/step - loss: 1.0631 - accuracy: 0.7413 - val_loss: 1.4042 - val_accuracy: 0.6860\n",
      "Epoch 6/7\n",
      "63/63 [==============================] - 1s 17ms/step - loss: 0.9682 - accuracy: 0.7620 - val_loss: 1.4016 - val_accuracy: 0.7020\n",
      "Epoch 7/7\n",
      "63/63 [==============================] - 1s 17ms/step - loss: 0.8879 - accuracy: 0.7776 - val_loss: 1.4270 - val_accuracy: 0.6900\n",
      "71/71 [==============================] - 0s 5ms/step - loss: 1.4764 - accuracy: 0.6839\n",
      "[1.4763838052749634, 0.683882474899292]\n"
     ]
    },
    {
     "data": {
      "text/plain": [
       "'\\nValidation accuracy has decreased by \\n'"
      ]
     },
     "execution_count": 7,
     "metadata": {},
     "output_type": "execute_result"
    }
   ],
   "source": [
    "\"\"\"\n",
    "The other way to encode the labels is to convert it to integer tensor\n",
    "\n",
    "y_train = np.array(train_labels)\n",
    "y_test = np.array(test_labels)\n",
    "\n",
    "To use this method, we can just change our loss function. categorical_crossentropy asserts that the labels are categorically encoded.\n",
    "We need to use sparse_categorical_crossentropy when we are using integer labels.\n",
    "\n",
    "model.compile(optimizer='rmsprop', loss='sparse_categorical_crossentropy', metrics=['accuracy'])\n",
    "\n",
    "This loss function is basically same as categorical_crossentropy; they just have difference in their interface.\n",
    "\"\"\"\n",
    "\n",
    "\"\"\"\n",
    "As we have mentioned before, since the output has 46 dimensions, hidden units in the hidden layer shouldn't be less than 46. We will\n",
    "check what would happen if we have hidden layer that has number of hidden units way smaller than 46.\n",
    "\"\"\"\n",
    "\n",
    "model = models.Sequential()\n",
    "model.add(layers.Dense(64, activation='relu', input_shape=(10000, )))\n",
    "model.add(layers.Dense(4, activation='relu'))\n",
    "model.add(layers.Dense(46, activation='softmax'))\n",
    "\n",
    "model.compile(optimizer='rmsprop', loss='categorical_crossentropy', metrics=['accuracy'])\n",
    "history = model.fit(partial_x_train, partial_y_train, epochs=20, batch_size=128, validation_data=(x_val, y_val))\n",
    "results = model.evaluate(x_test, one_hot_test_labels)\n",
    "print(results)\n",
    "\n",
    "plt.clf()\n",
    "\n",
    "loss = history.history['loss']\n",
    "val_loss = history.history['val_loss']\n",
    "\n",
    "epochs = range(1, len(loss) + 1)\n",
    "\n",
    "plt.plot(epochs, loss, 'bo', label='Training loss')\n",
    "plt.plot(epochs, val_loss, 'b', label='Validation loss')\n",
    "plt.title('Training and validation loss')\n",
    "plt.xlabel('Epochs')\n",
    "plt.ylabel('Loss')\n",
    "plt.legend()\n",
    "\n",
    "plt.show()\n",
    "\n",
    "plt.clf()\n",
    "\n",
    "acc = history.history['accuracy']\n",
    "val_acc = history.history['val_accuracy']\n",
    "\n",
    "plt.plot(epochs, acc, 'bo', label='Training acc')\n",
    "plt.plot(epochs, val_acc, 'b', label='Validation acc')\n",
    "plt.title('Training and validation accuracy')\n",
    "plt.xlabel('Epochs')\n",
    "plt.ylabel('Accuracy')\n",
    "plt.legend()\n",
    "\n",
    "plt.show()\n",
    "\n",
    "model = models.Sequential()\n",
    "model.add(layers.Dense(64, activation='relu', input_shape=(10000, )))\n",
    "model.add(layers.Dense(4, activation='relu'))\n",
    "model.add(layers.Dense(46, activation='softmax'))\n",
    "\n",
    "model.compile(optimizer='rmsprop', loss='categorical_crossentropy', metrics=['accuracy'])\n",
    "model.fit(partial_x_train, partial_y_train, epochs=7, batch_size=128, validation_data=(x_val, y_val))\n",
    "results = model.evaluate(x_test, one_hot_test_labels)\n",
    "print(results)\n",
    "\n",
    "\"\"\"\n",
    "Validation accuracy has decreased by 11%. Most of the reason for this is because we tried to compress a lot of information, enough to\n",
    "restore partition hyperplane of 46 classes, into low dimension representation space of middle layer. This network crammed in most of the\n",
    "needed information in 4 dimension representation, but could not put all of the needed information.\n",
    "\"\"\""
   ]
  },
  {
   "cell_type": "code",
   "execution_count": null,
   "metadata": {},
   "outputs": [],
   "source": []
  }
 ],
 "metadata": {
  "kernelspec": {
   "display_name": "Python 3",
   "language": "python",
   "name": "python3"
  },
  "language_info": {
   "codemirror_mode": {
    "name": "ipython",
    "version": 3
   },
   "file_extension": ".py",
   "mimetype": "text/x-python",
   "name": "python",
   "nbconvert_exporter": "python",
   "pygments_lexer": "ipython3",
   "version": "3.8.5"
  }
 },
 "nbformat": 4,
 "nbformat_minor": 4
}
