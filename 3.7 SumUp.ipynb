{
 "cells": [
  {
   "cell_type": "code",
   "execution_count": null,
   "metadata": {},
   "outputs": [],
   "source": [
    "\"\"\"\n",
    "Now we can handle binary classification, multiclass classification, and scalar regression, which are most general machine learning using\n",
    "vector data.\n",
    "Usually we need to preprocess the original data before putting into the network\n",
    "If there are features that have different scales (or range), we have to adjust their scales independently in preprocessing step.\n",
    "As the training goes on neural network can overfit to training data and gets bad results for new data.\n",
    "If there are small number of training data, we use neural network with 1 or 2 hidden layers to prevent overfitting.\n",
    "When data is divided into many categories, if hidden layer is too small, it can act as an information bottleneck.\n",
    "Regression uses different loss function and evaluation indicator with classification (classification: binary_crossentropy and accuracy\n",
    "regression: mean squared error and mean absolute error)\n",
    "K-fold cross-validation helps trustworthy evaluation of model when using small amount of data.\n",
    "\"\"\""
   ]
  }
 ],
 "metadata": {
  "kernelspec": {
   "display_name": "Python 3",
   "language": "python",
   "name": "python3"
  },
  "language_info": {
   "codemirror_mode": {
    "name": "ipython",
    "version": 3
   },
   "file_extension": ".py",
   "mimetype": "text/x-python",
   "name": "python",
   "nbconvert_exporter": "python",
   "pygments_lexer": "ipython3",
   "version": "3.8.5"
  }
 },
 "nbformat": 4,
 "nbformat_minor": 4
}
